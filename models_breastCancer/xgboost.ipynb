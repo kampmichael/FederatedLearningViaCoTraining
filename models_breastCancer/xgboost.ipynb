{
 "cells": [
  {
   "cell_type": "code",
   "execution_count": 1,
   "id": "3bb19c16-5c2b-4157-9eb3-f2a271fa22e4",
   "metadata": {},
   "outputs": [],
   "source": [
    "from tune_sklearn import TuneSearchCV\n",
    "from xgboost import XGBClassifier\n",
    "import numpy as np\n",
    "from sklearn.model_selection import train_test_split\n",
    "from collections import Counter\n",
    "from sklearn.datasets import load_breast_cancer"
   ]
  },
  {
   "cell_type": "code",
   "execution_count": 2,
   "id": "79d40515-afba-4cf2-820e-5198a07756b7",
   "metadata": {},
   "outputs": [],
   "source": [
    "x, y = load_breast_cancer(return_X_y=True)\n",
    "x_train, x_test, y_train, y_test = train_test_split(x, y, random_state=0)"
   ]
  },
  {
   "cell_type": "markdown",
   "id": "4786499d-7a9d-4c85-8020-3553d5c90f22",
   "metadata": {},
   "source": [
    "### Tuning parameters"
   ]
  },
  {
   "cell_type": "code",
   "execution_count": 3,
   "id": "02a20195-b0e7-4aaa-a7ab-0d2457af1071",
   "metadata": {
    "tags": []
   },
   "outputs": [],
   "source": [
    "parameter_grid = {\n",
    "    \"min_child_weight\": [1, 2, 3, 4, 5, 6, 7, 8, 9, 10],\n",
    "    \"gamma\": (0.5, 5),\n",
    "    \"subsample\": (0.6, 1.0),\n",
    "    \"colsample_bytree\": (0.6, 1.0),\n",
    "    \"max_depth\": [3, 4, 5],\n",
    "}\n",
    "\n",
    "xgb = XGBClassifier(\n",
    "    learning_rate=0.02,\n",
    "    n_estimators=50,\n",
    "    objective=\"binary:logistic\",\n",
    "    nthread=10,\n",
    "    tree_method=\"gpu_hist\",\n",
    "    use_label_encoder=False,\n",
    "    eval_metric=\"mlogloss\"\n",
    ")\n",
    "\n",
    "x_train_tune, x_test_tune, y_train_tune, y_test_tune = train_test_split(x_train, y_train, test_size=.2, random_state=29)"
   ]
  },
  {
   "cell_type": "code",
   "execution_count": 4,
   "id": "81a8fecf-f740-4d42-bdf9-1d08ab3b5d9e",
   "metadata": {
    "tags": []
   },
   "outputs": [
    {
     "data": {
      "text/html": [
       "== Status ==<br>Memory usage on this node: 42.0/754.6 GiB<br>Using FIFO scheduling algorithm.<br>Resources requested: 0/64 CPUs, 0/2 GPUs, 0.0/528.96 GiB heap, 0.0/128.52 GiB objects (0/1.0 accelerator_type:V100S)<br>Result logdir: /data/user/ladilova/fed_colearning/FederatedLearningViaCoTraining/models_breastCancer/_Trainable_2021-05-14_10-24-47<br>Number of trials: 10/10 (10 TERMINATED)<br><br>"
      ],
      "text/plain": [
       "<IPython.core.display.HTML object>"
      ]
     },
     "metadata": {},
     "output_type": "display_data"
    },
    {
     "data": {
      "text/plain": [
       "TuneSearchCV(early_stopping=False,\n",
       "             estimator=XGBClassifier(base_score=None, booster=None,\n",
       "                                     colsample_bylevel=None,\n",
       "                                     colsample_bynode=None,\n",
       "                                     colsample_bytree=None,\n",
       "                                     eval_metric='mlogloss', gamma=None,\n",
       "                                     gpu_id=None, importance_type='gain',\n",
       "                                     interaction_constraints=None,\n",
       "                                     learning_rate=0.02, max_delta_step=None,\n",
       "                                     max_depth=None, min_child_weight=None,\n",
       "                                     missing=nan, monotone_c...\n",
       "                      <class 'ray.tune.logger.CSVLogger'>],\n",
       "             n_jobs=-1,\n",
       "             param_distributions={'colsample_bytree': (0.6, 1.0),\n",
       "                                  'gamma': (0.5, 5), 'max_depth': [3, 4, 5],\n",
       "                                  'min_child_weight': [1, 2, 3, 4, 5, 6, 7, 8,\n",
       "                                                       9, 10],\n",
       "                                  'subsample': (0.6, 1.0)},\n",
       "             return_train_score=True,\n",
       "             scoring={'score': <function _passthrough_scorer at 0x7fd07a6ddd40>},\n",
       "             search_optimization='bayesian', sk_n_jobs=1, use_gpu=True,\n",
       "             verbose=1)"
      ]
     },
     "execution_count": 4,
     "metadata": {},
     "output_type": "execute_result"
    }
   ],
   "source": [
    "tune_search = TuneSearchCV(\n",
    "    xgb,\n",
    "    parameter_grid,\n",
    "    use_gpu=True,\n",
    "    search_optimization=\"bayesian\",\n",
    "    n_trials=10,\n",
    "    early_stopping=False,\n",
    "    max_iters=1,\n",
    "    local_dir='.',\n",
    "    return_train_score=True,\n",
    "    verbose=1\n",
    ")\n",
    "tune_search.fit(x_train_tune, y_train_tune)"
   ]
  },
  {
   "cell_type": "code",
   "execution_count": 5,
   "id": "6b90eed5-92af-47ce-befa-a67e354b17e9",
   "metadata": {
    "tags": []
   },
   "outputs": [
    {
     "name": "stdout",
     "output_type": "stream",
     "text": [
      "{'min_child_weight': 2, 'gamma': 3.448703504559024, 'subsample': 0.6312355636083927, 'colsample_bytree': 0.6771972135888006, 'max_depth': 4}\n"
     ]
    }
   ],
   "source": [
    "print(tune_search.best_params_)"
   ]
  },
  {
   "cell_type": "code",
   "execution_count": 6,
   "id": "4ad96ce3-bacc-4ff0-a533-0dcee4cf601d",
   "metadata": {
    "tags": []
   },
   "outputs": [
    {
     "data": {
      "text/plain": [
       "0.9186046511627907"
      ]
     },
     "execution_count": 6,
     "metadata": {},
     "output_type": "execute_result"
    }
   ],
   "source": [
    "# best classifier\n",
    "xgb = XGBClassifier(\n",
    "    learning_rate=0.02,\n",
    "    n_estimators=50,\n",
    "    objective=\"binary:logistic\",\n",
    "    nthread=10,\n",
    "    tree_method=\"gpu_hist\",\n",
    "    use_label_encoder=False,\n",
    "    eval_metric=\"mlogloss\",\n",
    "    **tune_search.best_params_)\n",
    "xgb.fit(x_train_tune, y_train_tune)\n",
    "xgb.score(x_test_tune, y_test_tune)"
   ]
  },
  {
   "cell_type": "markdown",
   "id": "93dcc07a-11c2-4b8b-abe7-3cad3562d7e9",
   "metadata": {
    "tags": []
   },
   "source": [
    "### Training local models"
   ]
  },
  {
   "cell_type": "code",
   "execution_count": 7,
   "id": "799d14ea-2c95-4b85-ab2d-7beea92c4b80",
   "metadata": {
    "tags": []
   },
   "outputs": [],
   "source": [
    "def tuning(learners, local_ds, theta):\n",
    "    global_predictions = []\n",
    "    for learner in learners:\n",
    "        global_predictions.append(learner.predict(global_set_x))\n",
    "    global_predictions = np.array(global_predictions)\n",
    "    \n",
    "    certain_global_x = []\n",
    "    certain_global_predictions = []\n",
    "    correct_count = 0\n",
    "    for i in range(len(global_set_x)):\n",
    "        tmp = np.zeros(n_classes)\n",
    "        for pred in global_predictions[:, i]:\n",
    "            tmp[pred] += 1\n",
    "        if tmp.max() >= theta:\n",
    "            certain_global_x.append(global_set_x[i])\n",
    "            certain_global_predictions.append(np.argmax(tmp))\n",
    "            if np.argmax(tmp) == global_set_y[i]:\n",
    "                correct_count += 1\n",
    "    print(\"Certain predictions amount\", len(certain_global_predictions), \"with correct in them\", correct_count)\n",
    "    \n",
    "    learners = []\n",
    "    acc = 0\n",
    "    for i in range(n_learners):\n",
    "        xgb = XGBClassifier(\n",
    "            learning_rate=0.02,\n",
    "            n_estimators=50,\n",
    "            objective=\"binary:logistic\",\n",
    "            nthread=10,\n",
    "            tree_method=\"gpu_hist\",\n",
    "            use_label_encoder=False,\n",
    "            eval_metric=\"mlogloss\",\n",
    "            **tune_search.best_params_)\n",
    "        if len(certain_global_x) > 0:\n",
    "            local_X = np.vstack([local_set_x[i*local_ds:(i+1)*local_ds], certain_global_x])\n",
    "            local_Y = np.hstack([local_set_y[i*local_ds:(i+1)*local_ds], certain_global_predictions])\n",
    "        else:\n",
    "            local_X = local_set_x[i*local_ds:(i+1)*local_ds]\n",
    "            local_Y = local_set_y[i*local_ds:(i+1)*local_ds]\n",
    "        xgb.fit(local_X, local_Y)\n",
    "        acc += xgb.score(x_test, y_test)\n",
    "        learners.append(xgb)\n",
    "    #print(\"Average accuracy of local workers\", acc/n_learners)\n",
    "        \n",
    "    return learners, acc/len(learners)"
   ]
  },
  {
   "cell_type": "code",
   "execution_count": 22,
   "id": "3944f9e6-df41-451a-9e61-eac3499956dc",
   "metadata": {
    "tags": []
   },
   "outputs": [
    {
     "name": "stdout",
     "output_type": "stream",
     "text": [
      "Length of the local dataset 45\n"
     ]
    }
   ],
   "source": [
    "n_classes = len(np.unique(y_train))\n",
    "# unlabeled examples\n",
    "m = 200\n",
    "global_set_x = x_train[:m]\n",
    "global_set_y = y_train[:m]\n",
    "# labeled examples\n",
    "local_set_x = x_train[m:]\n",
    "local_set_y = y_train[m:]\n",
    "n = len(x_train) - m\n",
    "n_learners = 5\n",
    "theta = 4\n",
    "local_ds = n//n_learners\n",
    "print(\"Length of the local dataset\", local_ds)"
   ]
  },
  {
   "cell_type": "code",
   "execution_count": 20,
   "id": "dd685f67-9a84-41b5-9717-5c17cb2a9de9",
   "metadata": {
    "tags": []
   },
   "outputs": [
    {
     "name": "stdout",
     "output_type": "stream",
     "text": [
      "Average accuracy of local workers 0.9188811188811188\n"
     ]
    }
   ],
   "source": [
    "learners = []\n",
    "acc = 0\n",
    "for i in range(n_learners):\n",
    "    xgb = XGBClassifier(\n",
    "        learning_rate=0.02,\n",
    "        n_estimators=50,\n",
    "        objective=\"binary:logistic\",\n",
    "        nthread=10,\n",
    "        tree_method=\"gpu_hist\",\n",
    "        use_label_encoder=False,\n",
    "        eval_metric=\"mlogloss\",\n",
    "        **tune_search.best_params_)\n",
    "    local_X = local_set_x[i*local_ds:(i+1)*local_ds]\n",
    "    local_Y = local_set_y[i*local_ds:(i+1)*local_ds]\n",
    "    #print(Counter(local_Y))\n",
    "    xgb.fit(local_X, local_Y)\n",
    "    acc += xgb.score(x_test, y_test)\n",
    "    learners.append(xgb)\n",
    "print(\"Average accuracy of local workers\", acc/n_learners)"
   ]
  },
  {
   "cell_type": "code",
   "execution_count": 21,
   "id": "d3bfffd3-bacd-44c2-a668-cbc0b996da09",
   "metadata": {
    "tags": []
   },
   "outputs": [
    {
     "name": "stdout",
     "output_type": "stream",
     "text": [
      "Certain predictions amount 239 with correct in them 223\n",
      "0.9300699300699302\n",
      "Certain predictions amount 247 with correct in them 226\n",
      "0.9272727272727274\n",
      "Certain predictions amount 245 with correct in them 225\n",
      "0.911888111888112\n",
      "Certain predictions amount 247 with correct in them 226\n",
      "0.904895104895105\n",
      "Certain predictions amount 250 with correct in them 224\n",
      "0.9076923076923077\n",
      "Certain predictions amount 250 with correct in them 224\n",
      "0.9076923076923077\n",
      "Certain predictions amount 250 with correct in them 224\n",
      "0.9076923076923077\n",
      "Certain predictions amount 250 with correct in them 224\n",
      "0.9076923076923077\n",
      "Certain predictions amount 250 with correct in them 224\n",
      "0.9076923076923077\n",
      "Certain predictions amount 250 with correct in them 224\n",
      "0.9076923076923077\n"
     ]
    }
   ],
   "source": [
    "for i in range(10):\n",
    "    learners, acc = tuning(learners, local_ds, theta)\n",
    "    print(acc)"
   ]
  },
  {
   "cell_type": "markdown",
   "id": "3cee3fce-62fe-4c9f-816a-9052a12b6dc0",
   "metadata": {},
   "source": [
    "### Tuning local_ds"
   ]
  },
  {
   "cell_type": "code",
   "execution_count": 23,
   "id": "f7a294d8-8029-4549-a43f-afda10bd06df",
   "metadata": {},
   "outputs": [
    {
     "name": "stdout",
     "output_type": "stream",
     "text": [
      "Local dataset size 10\n",
      "Certain predictions amount 200 with correct in them 129\n",
      "Certain predictions amount 200 with correct in them 129\n",
      "Certain predictions amount 200 with correct in them 129\n",
      "Certain predictions amount 200 with correct in them 129\n",
      "Certain predictions amount 200 with correct in them 129\n",
      "Local dataset size 20\n",
      "Certain predictions amount 200 with correct in them 129\n",
      "Certain predictions amount 200 with correct in them 129\n",
      "Certain predictions amount 200 with correct in them 129\n",
      "Certain predictions amount 200 with correct in them 129\n",
      "Certain predictions amount 200 with correct in them 129\n",
      "Local dataset size 30\n",
      "Certain predictions amount 190 with correct in them 172\n",
      "Certain predictions amount 196 with correct in them 176\n",
      "Certain predictions amount 198 with correct in them 179\n",
      "Certain predictions amount 198 with correct in them 178\n",
      "Certain predictions amount 200 with correct in them 178\n",
      "Local dataset size 40\n",
      "Certain predictions amount 191 with correct in them 175\n",
      "Certain predictions amount 199 with correct in them 176\n",
      "Certain predictions amount 199 with correct in them 175\n",
      "Certain predictions amount 200 with correct in them 175\n",
      "Certain predictions amount 200 with correct in them 175\n",
      "Local dataset size 45\n",
      "Certain predictions amount 185 with correct in them 174\n",
      "Certain predictions amount 198 with correct in them 180\n",
      "Certain predictions amount 198 with correct in them 180\n",
      "Certain predictions amount 198 with correct in them 180\n",
      "Certain predictions amount 198 with correct in them 180\n"
     ]
    }
   ],
   "source": [
    "local_ds_options = [10, 20, 30, 40, 45]\n",
    "accuracies = []\n",
    "for local_ds in local_ds_options:\n",
    "    print(\"Local dataset size\", local_ds)\n",
    "    accuracies.append([])\n",
    "    learners = []\n",
    "    acc = 0\n",
    "    for i in range(n_learners):\n",
    "        xgb = XGBClassifier(\n",
    "            learning_rate=0.02,\n",
    "            n_estimators=50,\n",
    "            objective=\"binary:logistic\",\n",
    "            nthread=10,\n",
    "            tree_method=\"gpu_hist\",\n",
    "            use_label_encoder=False,\n",
    "            eval_metric=\"mlogloss\",\n",
    "            **tune_search.best_params_)\n",
    "        local_X = local_set_x[i*local_ds:(i+1)*local_ds]\n",
    "        local_Y = local_set_y[i*local_ds:(i+1)*local_ds]\n",
    "        xgb.fit(local_X, local_Y)\n",
    "        acc += xgb.score(x_test, y_test)\n",
    "        learners.append(xgb)\n",
    "    accuracies[-1].append(acc/len(learners))\n",
    "    for i in range(5):\n",
    "        learners, acc = tuning(learners, local_ds, theta)\n",
    "        accuracies[-1].append(acc)"
   ]
  },
  {
   "cell_type": "code",
   "execution_count": 24,
   "id": "05c1090a-4980-4602-b448-74ef064a0068",
   "metadata": {},
   "outputs": [
    {
     "data": {
      "image/png": "[encoded data removed]",
      "text/plain": [
       "<Figure size 432x288 with 1 Axes>"
      ]
     },
     "metadata": {
      "needs_background": "light"
     },
     "output_type": "display_data"
    }
   ],
   "source": [
    "import matplotlib.pyplot as plt\n",
    "%matplotlib inline\n",
    "\n",
    "for ind, ld in enumerate(local_ds_options):\n",
    "    accs = accuracies[ind]\n",
    "    plt.plot(range(len(accs)), accs, label=str(ld))\n",
    "plt.ylabel(\"Avg accuracy\")\n",
    "plt.xlabel(\"Tuning\")\n",
    "plt.legend()\n",
    "plt.show()"
   ]
  },
  {
   "cell_type": "markdown",
   "id": "0ebff18b-a76e-49ff-b43d-372ae8e1d6e2",
   "metadata": {},
   "source": [
    "### Tuning global ds"
   ]
  },
  {
   "cell_type": "code",
   "execution_count": 25,
   "id": "f53943e8-389b-4ef2-90d6-7c33cc628b40",
   "metadata": {},
   "outputs": [
    {
     "name": "stdout",
     "output_type": "stream",
     "text": [
      "Local dataset size 75\n",
      "Certain predictions amount 44 with correct in them 41\n",
      "Certain predictions amount 45 with correct in them 42\n",
      "Certain predictions amount 45 with correct in them 42\n",
      "Certain predictions amount 45 with correct in them 42\n",
      "Certain predictions amount 45 with correct in them 42\n",
      "Local dataset size 65\n",
      "Certain predictions amount 97 with correct in them 90\n",
      "Certain predictions amount 98 with correct in them 90\n",
      "Certain predictions amount 99 with correct in them 91\n",
      "Certain predictions amount 99 with correct in them 90\n",
      "Certain predictions amount 100 with correct in them 90\n",
      "Local dataset size 55\n",
      "Certain predictions amount 135 with correct in them 128\n",
      "Certain predictions amount 145 with correct in them 135\n",
      "Certain predictions amount 149 with correct in them 135\n",
      "Certain predictions amount 149 with correct in them 135\n",
      "Certain predictions amount 149 with correct in them 135\n",
      "Local dataset size 45\n",
      "Certain predictions amount 185 with correct in them 174\n",
      "Certain predictions amount 198 with correct in them 180\n",
      "Certain predictions amount 198 with correct in them 180\n",
      "Certain predictions amount 198 with correct in them 180\n",
      "Certain predictions amount 198 with correct in them 180\n",
      "Local dataset size 35\n",
      "Certain predictions amount 239 with correct in them 223\n",
      "Certain predictions amount 247 with correct in them 226\n",
      "Certain predictions amount 245 with correct in them 225\n",
      "Certain predictions amount 247 with correct in them 226\n",
      "Certain predictions amount 250 with correct in them 224\n",
      "Local dataset size 25\n",
      "Certain predictions amount 243 with correct in them 190\n",
      "Certain predictions amount 300 with correct in them 191\n",
      "Certain predictions amount 300 with correct in them 191\n",
      "Certain predictions amount 300 with correct in them 191\n",
      "Certain predictions amount 300 with correct in them 191\n"
     ]
    }
   ],
   "source": [
    "global_ds_options = [50, 100, 150, 200, 250, 300]\n",
    "accuracies = []\n",
    "for global_ds in global_ds_options:\n",
    "    m = global_ds\n",
    "    global_set_x = x_train[:m]\n",
    "    global_set_y = y_train[:m]\n",
    "    # labeled examples\n",
    "    local_set_x = x_train[m:]\n",
    "    local_set_y = y_train[m:]\n",
    "    n = len(x_train) - m\n",
    "    local_ds = n//n_learners\n",
    "    print(\"Local dataset size\", local_ds)\n",
    "    accuracies.append([])\n",
    "    learners = []\n",
    "    acc = 0\n",
    "    for i in range(n_learners):\n",
    "        xgb = XGBClassifier(\n",
    "            learning_rate=0.02,\n",
    "            n_estimators=50,\n",
    "            objective=\"binary:logistic\",\n",
    "            nthread=10,\n",
    "            tree_method=\"gpu_hist\",\n",
    "            use_label_encoder=False,\n",
    "            eval_metric=\"mlogloss\",\n",
    "            **tune_search.best_params_)\n",
    "        local_X = local_set_x[i*local_ds:(i+1)*local_ds]\n",
    "        local_Y = local_set_y[i*local_ds:(i+1)*local_ds]\n",
    "        xgb.fit(local_X, local_Y)\n",
    "        acc += xgb.score(x_test, y_test)\n",
    "        learners.append(xgb)\n",
    "    accuracies[-1].append(acc/len(learners))\n",
    "    for i in range(5):\n",
    "        learners, acc = tuning(learners, local_ds, theta)\n",
    "        accuracies[-1].append(acc)"
   ]
  },
  {
   "cell_type": "code",
   "execution_count": 26,
   "id": "d1d28752-a434-4625-80d9-6daf500ca9c0",
   "metadata": {},
   "outputs": [
    {
     "data": {
      "image/png": "[encoded data removed]",
      "text/plain": [
       "<Figure size 432x288 with 1 Axes>"
      ]
     },
     "metadata": {
      "needs_background": "light"
     },
     "output_type": "display_data"
    }
   ],
   "source": [
    "for ind, ld in enumerate(global_ds_options):\n",
    "    accs = accuracies[ind]\n",
    "    plt.plot(range(len(accs)), accs, label=str(ld))\n",
    "plt.ylabel(\"Avg accuracy\")\n",
    "plt.xlabel(\"Tuning\")\n",
    "plt.legend()\n",
    "plt.show()"
   ]
  },
  {
   "cell_type": "code",
   "execution_count": null,
   "id": "444b53a8-cb3b-46b3-bf4e-046cff2c61b6",
   "metadata": {},
   "outputs": [],
   "source": []
  }
 ],
 "metadata": {
  "kernelspec": {
   "display_name": "Python 3",
   "language": "python",
   "name": "python3"
  },
  "language_info": {
   "codemirror_mode": {
    "name": "ipython",
    "version": 3
   },
   "file_extension": ".py",
   "mimetype": "text/x-python",
   "name": "python",
   "nbconvert_exporter": "python",
   "pygments_lexer": "ipython3",
   "version": "3.7.10"
  }
 },
 "nbformat": 4,
 "nbformat_minor": 5
}
