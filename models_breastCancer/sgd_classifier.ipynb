{
 "cells": [
  {
   "cell_type": "code",
   "execution_count": 15,
   "id": "a31a5f77-aaf4-456e-b8f9-3d12357c6e76",
   "metadata": {},
   "outputs": [],
   "source": [
    "import matplotlib.pyplot as plt\n",
    "from sklearn.model_selection import train_test_split\n",
    "from sklearn.datasets import load_breast_cancer\n",
    "from tune_sklearn import TuneSearchCV\n",
    "from sklearn.linear_model import SGDClassifier\n",
    "import numpy as np"
   ]
  },
  {
   "cell_type": "code",
   "execution_count": 8,
   "id": "89123037-2fc2-45fc-828a-6023938bf4d8",
   "metadata": {},
   "outputs": [],
   "source": [
    "x, y = load_breast_cancer(return_X_y=True)\n",
    "x_train, x_test, y_train, y_test = train_test_split(x, y, random_state=0)"
   ]
  },
  {
   "cell_type": "markdown",
   "id": "da050c64-5d8b-4bb3-be45-a1a3f0bc7b4b",
   "metadata": {
    "tags": []
   },
   "source": [
    "### Tuning parameters"
   ]
  },
  {
   "cell_type": "code",
   "execution_count": 9,
   "id": "9b183b6e-59ba-4091-ad30-0af42d423814",
   "metadata": {
    "tags": []
   },
   "outputs": [],
   "source": [
    "clf = SGDClassifier()\n",
    "parameter_grid = {\"alpha\": (1e-4, 1), \"epsilon\": (0.01, 0.1)}\n",
    "x_train_tune, x_test_tune, y_train_tune, y_test_tune = train_test_split(x_train, y_train, test_size=.2, random_state=29)"
   ]
  },
  {
   "cell_type": "code",
   "execution_count": 10,
   "id": "2f73d32b-1df8-4127-bbec-98f67cafb4f9",
   "metadata": {
    "tags": []
   },
   "outputs": [
    {
     "data": {
      "text/html": [
       "== Status ==<br>Memory usage on this node: 43.0/754.6 GiB<br>Using AsyncHyperBand: num_stopped=7\n",
       "Bracket: Iter 1.000: 0.7036764705882352<br>Resources requested: 0/64 CPUs, 0/2 GPUs, 0.0/526.37 GiB heap, 0.0/128.52 GiB objects (0/1.0 accelerator_type:V100S)<br>Result logdir: /data/user/ladilova/fed_colearning/FederatedLearningViaCoTraining/models_breastCancer/_Trainable_2021-05-14_09-58-38<br>Number of trials: 10/10 (10 TERMINATED)<br><br>"
      ],
      "text/plain": [
       "<IPython.core.display.HTML object>"
      ]
     },
     "metadata": {},
     "output_type": "display_data"
    },
    {
     "data": {
      "text/plain": [
       "TuneSearchCV(early_stopping=<ray.tune.schedulers.async_hyperband.AsyncHyperBandScheduler object at 0x7f575143ad10>,\n",
       "             estimator=SGDClassifier(), local_dir='.',\n",
       "             loggers=[<class 'ray.tune.logger.JsonLogger'>,\n",
       "                      <class 'ray.tune.logger.CSVLogger'>],\n",
       "             max_iters=3, n_jobs=-1,\n",
       "             param_distributions={'alpha': (0.0001, 1), 'epsilon': (0.01, 0.1)},\n",
       "             return_train_score=True,\n",
       "             scoring={'score': <function _passthrough_scorer at 0x7f575536cf80>},\n",
       "             search_optimization='bayesian', sk_n_jobs=1, verbose=1)"
      ]
     },
     "execution_count": 10,
     "metadata": {},
     "output_type": "execute_result"
    }
   ],
   "source": [
    "tune_search = TuneSearchCV(\n",
    "    clf,\n",
    "    parameter_grid,\n",
    "    search_optimization=\"bayesian\",\n",
    "    n_trials=10,\n",
    "    early_stopping=\"ASHAScheduler\",\n",
    "    max_iters=3,\n",
    "    local_dir='.',\n",
    "    return_train_score=True,\n",
    "    verbose=1\n",
    ")\n",
    "tune_search.fit(x_train_tune, y_train_tune)"
   ]
  },
  {
   "cell_type": "code",
   "execution_count": 11,
   "id": "92a6dd6e-ec67-4540-b953-f48105e2ebb1",
   "metadata": {
    "tags": []
   },
   "outputs": [
    {
     "name": "stdout",
     "output_type": "stream",
     "text": [
      "{'alpha': 0.2160294545823589, 'epsilon': 0.02554815894166721}\n"
     ]
    }
   ],
   "source": [
    "print(tune_search.best_params_)"
   ]
  },
  {
   "cell_type": "code",
   "execution_count": 12,
   "id": "c569fc58-a66a-41ab-bd1b-613db7a635a5",
   "metadata": {
    "tags": []
   },
   "outputs": [
    {
     "data": {
      "text/plain": [
       "0.872093023255814"
      ]
     },
     "execution_count": 12,
     "metadata": {},
     "output_type": "execute_result"
    }
   ],
   "source": [
    "# best classifier\n",
    "clf = SGDClassifier(**tune_search.best_params_)\n",
    "clf.fit(x_train_tune, y_train_tune)\n",
    "clf.score(x_test_tune, y_test_tune)"
   ]
  },
  {
   "cell_type": "markdown",
   "id": "219bc902-646c-4b31-9444-5da583855089",
   "metadata": {
    "tags": []
   },
   "source": [
    "### Training local models"
   ]
  },
  {
   "cell_type": "code",
   "execution_count": 49,
   "id": "bf9f641b-7b36-4ac4-a757-ec8118744d5f",
   "metadata": {
    "tags": []
   },
   "outputs": [],
   "source": [
    "def tuning(learners, local_ds, theta, theta_dist):\n",
    "    global_predictions = []\n",
    "    global_dist = []\n",
    "    for learner in learners:\n",
    "        global_predictions.append(learner.predict(global_set_x))\n",
    "        global_dist.append(learner.decision_function(global_set_x))\n",
    "    global_predictions = np.array(global_predictions)\n",
    "    \n",
    "    certain_global_x = []\n",
    "    certain_global_predictions = []\n",
    "    correct_count = 0\n",
    "    for i in range(len(global_set_x)):\n",
    "        tmp = np.zeros(n_classes)\n",
    "        tmp_dist = 0.0\n",
    "        for ind, pred in enumerate(global_predictions[:, i]):\n",
    "            tmp[pred] += 1\n",
    "            tmp_dist += abs(global_dist[ind][i])\n",
    "        if tmp.max() >= theta and tmp_dist >= theta_dist:\n",
    "            certain_global_x.append(global_set_x[i])\n",
    "            certain_global_predictions.append(np.argmax(tmp))\n",
    "            if np.argmax(tmp) == global_set_y[i]:\n",
    "                correct_count += 1\n",
    "    #print(\"Certain predictions amount\", len(certain_global_predictions), \"with correct in them\", correct_count)\n",
    "    \n",
    "    learners = []\n",
    "    acc = 0\n",
    "    for i in range(n_learners):\n",
    "        clf = SGDClassifier(**tune_search.best_params_)\n",
    "        if len(certain_global_x) > 0:\n",
    "            local_X = np.vstack([local_set_x[i*local_ds:(i+1)*local_ds], certain_global_x])\n",
    "            local_Y = np.hstack([local_set_y[i*local_ds:(i+1)*local_ds], certain_global_predictions])\n",
    "        else:\n",
    "            local_X = local_set_x[i*local_ds:(i+1)*local_ds]\n",
    "            local_Y = local_set_y[i*local_ds:(i+1)*local_ds]\n",
    "        clf.fit(local_X, local_Y)\n",
    "        acc += clf.score(x_test, y_test)\n",
    "        learners.append(clf)\n",
    "    #print(\"Average accuracy of local workers\", acc/n_learners)\n",
    "        \n",
    "    return learners, acc/len(learners)"
   ]
  },
  {
   "cell_type": "code",
   "execution_count": 36,
   "id": "ce9294a6-de01-461f-824f-fb41cfcd80e0",
   "metadata": {
    "tags": []
   },
   "outputs": [
    {
     "name": "stdout",
     "output_type": "stream",
     "text": [
      "Data size 426\n",
      "classes 2\n"
     ]
    }
   ],
   "source": [
    "print(\"Data size\", len(x_train))\n",
    "n_classes = len(np.unique(y_train))\n",
    "print(\"classes\", n_classes)"
   ]
  },
  {
   "cell_type": "code",
   "execution_count": 44,
   "id": "59e21e08-c1aa-476c-84ab-f94bb5f99dcb",
   "metadata": {
    "tags": []
   },
   "outputs": [
    {
     "name": "stdout",
     "output_type": "stream",
     "text": [
      "Length of the local dataset 25\n"
     ]
    }
   ],
   "source": [
    "# unlabeled examples\n",
    "m = 300\n",
    "global_set_x = x_train[:m]\n",
    "global_set_y = y_train[:m]\n",
    "# labeled examples\n",
    "local_set_x = x_train[m:]\n",
    "local_set_y = y_train[m:]\n",
    "n = len(x_train) - m\n",
    "n_learners = 5\n",
    "theta = 4\n",
    "theta_dist = 4*500.0\n",
    "local_ds = n//n_learners\n",
    "print(\"Length of the local dataset\", local_ds)"
   ]
  },
  {
   "cell_type": "code",
   "execution_count": 46,
   "id": "ad4f469a-e874-488c-a37f-e58271a066ca",
   "metadata": {
    "tags": []
   },
   "outputs": [
    {
     "name": "stdout",
     "output_type": "stream",
     "text": [
      "Average accuracy of local workers 0.7146853146853147\n"
     ]
    }
   ],
   "source": [
    "learners = []\n",
    "acc = 0\n",
    "for i in range(n_learners):\n",
    "    clf = SGDClassifier(**tune_search.best_params_)\n",
    "    local_X = local_set_x[i*local_ds:(i+1)*local_ds]\n",
    "    local_Y = local_set_y[i*local_ds:(i+1)*local_ds]\n",
    "    #print(Counter(local_Y))\n",
    "    clf.fit(local_X, local_Y)\n",
    "    acc += clf.score(x_test, y_test)\n",
    "    learners.append(clf)\n",
    "print(\"Average accuracy of local workers\", acc/n_learners)"
   ]
  },
  {
   "cell_type": "code",
   "execution_count": 47,
   "id": "c9785cdd-c8fe-409f-9632-78667b8b8248",
   "metadata": {
    "tags": []
   },
   "outputs": [
    {
     "name": "stdout",
     "output_type": "stream",
     "text": [
      "Certain predictions amount 187 with correct in them 180\n",
      "0.8377622377622378\n",
      "Certain predictions amount 222 with correct in them 205\n",
      "0.7944055944055944\n",
      "Certain predictions amount 263 with correct in them 240\n",
      "0.8601398601398602\n",
      "Certain predictions amount 206 with correct in them 195\n",
      "0.8643356643356643\n",
      "Certain predictions amount 221 with correct in them 209\n",
      "0.8545454545454545\n",
      "Certain predictions amount 193 with correct in them 183\n",
      "0.8531468531468531\n",
      "Certain predictions amount 228 with correct in them 216\n",
      "0.827972027972028\n",
      "Certain predictions amount 202 with correct in them 192\n",
      "0.834965034965035\n",
      "Certain predictions amount 146 with correct in them 138\n",
      "0.786013986013986\n",
      "Certain predictions amount 201 with correct in them 192\n",
      "0.7846153846153846\n",
      "Certain predictions amount 115 with correct in them 107\n",
      "0.8167832167832166\n",
      "Certain predictions amount 199 with correct in them 187\n",
      "0.8741258741258742\n",
      "Certain predictions amount 204 with correct in them 195\n",
      "0.8237762237762238\n",
      "Certain predictions amount 165 with correct in them 157\n",
      "0.8391608391608392\n",
      "Certain predictions amount 210 with correct in them 196\n",
      "0.8615384615384615\n",
      "Certain predictions amount 188 with correct in them 179\n",
      "0.8433566433566433\n",
      "Certain predictions amount 200 with correct in them 189\n",
      "0.7902097902097902\n",
      "Certain predictions amount 166 with correct in them 153\n",
      "0.7202797202797202\n",
      "Certain predictions amount 181 with correct in them 167\n",
      "0.7454545454545455\n",
      "Certain predictions amount 124 with correct in them 110\n",
      "0.7552447552447552\n"
     ]
    }
   ],
   "source": [
    "for i in range(20):\n",
    "    learners, acc = tuning(learners, local_ds, theta, theta_dist)\n",
    "    print(acc)"
   ]
  },
  {
   "cell_type": "markdown",
   "id": "3d12ddab-51bc-4270-8cae-cd1770d15029",
   "metadata": {},
   "source": [
    "### Random runs"
   ]
  },
  {
   "cell_type": "code",
   "execution_count": 54,
   "id": "a029ed9a-70eb-4887-a599-dadff60715c6",
   "metadata": {
    "tags": []
   },
   "outputs": [],
   "source": [
    "accs = []\n",
    "for i in range(50):\n",
    "    learners = []\n",
    "    accs.append([])\n",
    "    acc = 0\n",
    "    for i in range(n_learners):\n",
    "        clf = SGDClassifier(**tune_search.best_params_)\n",
    "        local_X = local_set_x[i*local_ds:(i+1)*local_ds]\n",
    "        local_Y = local_set_y[i*local_ds:(i+1)*local_ds]\n",
    "        #print(Counter(local_Y))\n",
    "        clf.fit(local_X, local_Y)\n",
    "        acc += clf.score(x_test, y_test)\n",
    "        learners.append(clf)\n",
    "    accs[-1].append(acc/n_learners)\n",
    "    for i in range(20):\n",
    "        learners, acc = tuning(learners, local_ds, theta, theta_dist)\n",
    "        accs[-1].append(acc)"
   ]
  },
  {
   "cell_type": "code",
   "execution_count": 62,
   "id": "03976214-5c8b-4632-8c3c-fd991f816aa3",
   "metadata": {
    "tags": []
   },
   "outputs": [
    {
     "data": {
      "image/png": "[encoded data removed]",
      "text/plain": [
       "<Figure size 432x288 with 1 Axes>"
      ]
     },
     "metadata": {
      "needs_background": "light"
     },
     "output_type": "display_data"
    }
   ],
   "source": [
    "import matplotlib.pyplot as plt\n",
    "%matplotlib inline\n",
    "\n",
    "mu = np.array(accs).mean(axis=0)\n",
    "sigma = np.array(accs).std(axis=0)\n",
    "\n",
    "plt.plot(range(21), mu, lw=2, label='mean', color='blue')\n",
    "plt.fill_between(range(21), mu+sigma, mu-sigma, facecolor='blue', alpha=0.5)\n",
    "\n",
    "plt.ylabel(\"Avg accuracy\")\n",
    "plt.xlabel(\"Tuning number\")\n",
    "plt.show()"
   ]
  },
  {
   "cell_type": "code",
   "execution_count": null,
   "id": "8b0e8f2a-639d-43df-b549-dc5b7cb1834b",
   "metadata": {},
   "outputs": [],
   "source": []
  }
 ],
 "metadata": {
  "kernelspec": {
   "display_name": "Python 3",
   "language": "python",
   "name": "python3"
  },
  "language_info": {
   "codemirror_mode": {
    "name": "ipython",
    "version": 3
   },
   "file_extension": ".py",
   "mimetype": "text/x-python",
   "name": "python",
   "nbconvert_exporter": "python",
   "pygments_lexer": "ipython3",
   "version": "3.7.10"
  }
 },
 "nbformat": 4,
 "nbformat_minor": 5
}
