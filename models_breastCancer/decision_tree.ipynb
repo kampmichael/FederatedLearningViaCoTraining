{
 "cells": [
  {
   "cell_type": "code",
   "execution_count": 5,
   "id": "04249497-5034-4da9-b478-0547a46b170d",
   "metadata": {},
   "outputs": [],
   "source": [
    "import matplotlib.pyplot as plt\n",
    "from sklearn.model_selection import train_test_split\n",
    "from sklearn.datasets import load_breast_cancer\n",
    "from tune_sklearn import TuneSearchCV\n",
    "from sklearn.tree import DecisionTreeClassifier\n",
    "import numpy as np"
   ]
  },
  {
   "cell_type": "code",
   "execution_count": 6,
   "id": "f1d96945-1848-486a-ad3d-b808fc39a7dc",
   "metadata": {},
   "outputs": [],
   "source": [
    "x, y = load_breast_cancer(return_X_y=True)\n",
    "x_train, x_test, y_train, y_test = train_test_split(x, y, random_state=0)"
   ]
  },
  {
   "cell_type": "code",
   "execution_count": 31,
   "id": "956c656b-1bdb-4c7c-9156-354d33c24006",
   "metadata": {
    "tags": []
   },
   "outputs": [],
   "source": [
    "def tuning(learners, local_ds, theta):\n",
    "    global_predictions = []\n",
    "    global_dist = []\n",
    "    for learner in learners:\n",
    "        global_predictions.append(learner.predict(global_set_x))\n",
    "    global_predictions = np.array(global_predictions)\n",
    "    \n",
    "    certain_global_x = []\n",
    "    certain_global_predictions = []\n",
    "    correct_count = 0\n",
    "    for i in range(len(global_set_x)):\n",
    "        tmp = np.zeros(n_classes)\n",
    "        for ind, pred in enumerate(global_predictions[:, i]):\n",
    "            tmp[pred] += 1\n",
    "        if tmp.max() >= theta:\n",
    "            certain_global_x.append(global_set_x[i])\n",
    "            certain_global_predictions.append(np.argmax(tmp))\n",
    "            if np.argmax(tmp) == global_set_y[i]:\n",
    "                correct_count += 1\n",
    "    #print(\"Certain predictions amount\", len(certain_global_predictions), \"with correct in them\", correct_count)\n",
    "    \n",
    "    learners = []\n",
    "    acc = 0\n",
    "    for i in range(n_learners):\n",
    "        clf = DecisionTreeClassifier()\n",
    "        if len(certain_global_x) > 0:\n",
    "            local_X = np.vstack([local_set_x[i*local_ds:(i+1)*local_ds], certain_global_x])\n",
    "            local_Y = np.hstack([local_set_y[i*local_ds:(i+1)*local_ds], certain_global_predictions])\n",
    "        else:\n",
    "            local_X = local_set_x[i*local_ds:(i+1)*local_ds]\n",
    "            local_Y = local_set_y[i*local_ds:(i+1)*local_ds]\n",
    "        clf.fit(local_X, local_Y)\n",
    "        acc += clf.score(x_test, y_test)\n",
    "        learners.append(clf)\n",
    "    #print(\"Average accuracy of local workers\", acc/n_learners)\n",
    "        \n",
    "    return learners, acc/len(learners)"
   ]
  },
  {
   "cell_type": "code",
   "execution_count": 22,
   "id": "65d655c8-5080-4c38-82e9-a024886ffc3e",
   "metadata": {
    "tags": []
   },
   "outputs": [
    {
     "name": "stdout",
     "output_type": "stream",
     "text": [
      "Data size 426\n",
      "classes 2\n"
     ]
    }
   ],
   "source": [
    "print(\"Data size\", len(x_train))\n",
    "n_classes = len(np.unique(y_train))\n",
    "print(\"classes\", n_classes)"
   ]
  },
  {
   "cell_type": "code",
   "execution_count": 23,
   "id": "b78913c7-34d5-4f3e-bb51-c49fc2805706",
   "metadata": {
    "tags": []
   },
   "outputs": [
    {
     "name": "stdout",
     "output_type": "stream",
     "text": [
      "Length of the local dataset 25\n"
     ]
    }
   ],
   "source": [
    "# unlabeled examples\n",
    "m = 300\n",
    "global_set_x = x_train[:m]\n",
    "global_set_y = y_train[:m]\n",
    "# labeled examples\n",
    "local_set_x = x_train[m:]\n",
    "local_set_y = y_train[m:]\n",
    "n = len(x_train) - m\n",
    "n_learners = 5\n",
    "theta = 4\n",
    "local_ds = n//n_learners\n",
    "print(\"Length of the local dataset\", local_ds)"
   ]
  },
  {
   "cell_type": "code",
   "execution_count": 28,
   "id": "2602e5d4-9655-4f0f-98b7-8f3ce035efd8",
   "metadata": {
    "tags": []
   },
   "outputs": [
    {
     "name": "stdout",
     "output_type": "stream",
     "text": [
      "Average accuracy of local workers 0.8965034965034965\n"
     ]
    }
   ],
   "source": [
    "learners = []\n",
    "acc = 0\n",
    "for i in range(n_learners):\n",
    "    clf = DecisionTreeClassifier()\n",
    "    local_X = local_set_x[i*local_ds:(i+1)*local_ds]\n",
    "    local_Y = local_set_y[i*local_ds:(i+1)*local_ds]\n",
    "    #print(Counter(local_Y))\n",
    "    clf.fit(local_X, local_Y)\n",
    "    acc += clf.score(x_test, y_test)\n",
    "    learners.append(clf)\n",
    "print(\"Average accuracy of local workers\", acc/n_learners)"
   ]
  },
  {
   "cell_type": "code",
   "execution_count": 29,
   "id": "e7ae1e9f-b646-4a4f-9523-c1b9d0e654f1",
   "metadata": {
    "tags": []
   },
   "outputs": [
    {
     "name": "stdout",
     "output_type": "stream",
     "text": [
      "Certain predictions amount 276 with correct in them 262\n",
      "0.8965034965034965\n",
      "Certain predictions amount 298 with correct in them 270\n",
      "0.9006993006993007\n",
      "Certain predictions amount 299 with correct in them 270\n",
      "0.902097902097902\n",
      "Certain predictions amount 299 with correct in them 270\n",
      "0.8993006993006993\n",
      "Certain predictions amount 300 with correct in them 270\n",
      "0.9006993006993007\n",
      "Certain predictions amount 300 with correct in them 270\n",
      "0.9034965034965035\n",
      "Certain predictions amount 300 with correct in them 270\n",
      "0.8993006993006993\n",
      "Certain predictions amount 300 with correct in them 270\n",
      "0.902097902097902\n",
      "Certain predictions amount 300 with correct in them 270\n",
      "0.8993006993006993\n",
      "Certain predictions amount 300 with correct in them 270\n",
      "0.9034965034965035\n",
      "Certain predictions amount 300 with correct in them 270\n",
      "0.9006993006993007\n",
      "Certain predictions amount 300 with correct in them 270\n",
      "0.9006993006993007\n",
      "Certain predictions amount 300 with correct in them 270\n",
      "0.8993006993006993\n",
      "Certain predictions amount 300 with correct in them 270\n",
      "0.8993006993006993\n",
      "Certain predictions amount 300 with correct in them 270\n",
      "0.8993006993006993\n",
      "Certain predictions amount 300 with correct in them 270\n",
      "0.8993006993006993\n",
      "Certain predictions amount 300 with correct in them 270\n",
      "0.8993006993006993\n",
      "Certain predictions amount 300 with correct in them 270\n",
      "0.8993006993006993\n",
      "Certain predictions amount 300 with correct in them 270\n",
      "0.8993006993006993\n",
      "Certain predictions amount 300 with correct in them 270\n",
      "0.8993006993006993\n"
     ]
    }
   ],
   "source": [
    "for i in range(20):\n",
    "    learners, acc = tuning(learners, local_ds, theta)\n",
    "    print(acc)"
   ]
  },
  {
   "cell_type": "markdown",
   "id": "2a971adb-e425-4da8-bda2-35887ec42b82",
   "metadata": {},
   "source": [
    "### Random runs"
   ]
  },
  {
   "cell_type": "code",
   "execution_count": 32,
   "id": "2371e1ce-6753-48a2-a55c-e1ab1452f2a0",
   "metadata": {
    "tags": []
   },
   "outputs": [],
   "source": [
    "accs = []\n",
    "for i in range(50):\n",
    "    learners = []\n",
    "    accs.append([])\n",
    "    acc = 0\n",
    "    for i in range(n_learners):\n",
    "        clf = DecisionTreeClassifier()\n",
    "        local_X = local_set_x[i*local_ds:(i+1)*local_ds]\n",
    "        local_Y = local_set_y[i*local_ds:(i+1)*local_ds]\n",
    "        #print(Counter(local_Y))\n",
    "        clf.fit(local_X, local_Y)\n",
    "        acc += clf.score(x_test, y_test)\n",
    "        learners.append(clf)\n",
    "    accs[-1].append(acc/n_learners)\n",
    "    for i in range(20):\n",
    "        learners, acc = tuning(learners, local_ds, theta)\n",
    "        accs[-1].append(acc)"
   ]
  },
  {
   "cell_type": "code",
   "execution_count": 33,
   "id": "30e43040-3842-4f98-a5e5-922bcfcb9c86",
   "metadata": {
    "tags": []
   },
   "outputs": [
    {
     "data": {
      "image/png": "[encoded data removed]",
      "text/plain": [
       "<Figure size 432x288 with 1 Axes>"
      ]
     },
     "metadata": {
      "needs_background": "light"
     },
     "output_type": "display_data"
    }
   ],
   "source": [
    "import matplotlib.pyplot as plt\n",
    "%matplotlib inline\n",
    "\n",
    "mu = np.array(accs).mean(axis=0)\n",
    "sigma = np.array(accs).std(axis=0)\n",
    "\n",
    "plt.plot(range(21), mu, lw=2, label='mean', color='blue')\n",
    "plt.fill_between(range(21), mu+sigma, mu-sigma, facecolor='blue', alpha=0.5)\n",
    "\n",
    "plt.ylabel(\"Avg accuracy\")\n",
    "plt.xlabel(\"Tuning number\")\n",
    "plt.show()"
   ]
  },
  {
   "cell_type": "code",
   "execution_count": null,
   "id": "bb182e71-bc0b-4112-8511-66e977b0defd",
   "metadata": {},
   "outputs": [],
   "source": []
  }
 ],
 "metadata": {
  "kernelspec": {
   "display_name": "Python 3",
   "language": "python",
   "name": "python3"
  },
  "language_info": {
   "codemirror_mode": {
    "name": "ipython",
    "version": 3
   },
   "file_extension": ".py",
   "mimetype": "text/x-python",
   "name": "python",
   "nbconvert_exporter": "python",
   "pygments_lexer": "ipython3",
   "version": "3.7.10"
  }
 },
 "nbformat": 4,
 "nbformat_minor": 5
}
