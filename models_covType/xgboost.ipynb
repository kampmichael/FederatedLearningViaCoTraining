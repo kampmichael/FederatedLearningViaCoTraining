{
 "cells": [
  {
   "cell_type": "code",
   "execution_count": 1,
   "id": "50428830-e0dc-45fc-ab72-7a545ae9867b",
   "metadata": {},
   "outputs": [],
   "source": [
    "from tune_sklearn import TuneSearchCV\n",
    "from xgboost import XGBClassifier\n",
    "import numpy as np\n",
    "from sklearn.model_selection import train_test_split\n",
    "from collections import Counter"
   ]
  },
  {
   "cell_type": "code",
   "execution_count": 2,
   "id": "384f631b-1361-4a2e-b367-eeab294e181f",
   "metadata": {},
   "outputs": [],
   "source": [
    "x_train = np.load(\"trainX_ct.npy\")\n",
    "y_train = np.load(\"trainY_ct.npy\")\n",
    "x_test = np.load(\"testX_ct.npy\")\n",
    "y_test = np.load(\"testY_ct.npy\")"
   ]
  },
  {
   "cell_type": "markdown",
   "id": "902b2a56-64aa-4f55-92e0-0a4cf7fcb153",
   "metadata": {},
   "source": [
    "### Tuning parameters"
   ]
  },
  {
   "cell_type": "code",
   "execution_count": 3,
   "id": "61b88120-41da-411f-a818-5f7738bbf4fc",
   "metadata": {
    "tags": []
   },
   "outputs": [],
   "source": [
    "parameter_grid = {\n",
    "    \"min_child_weight\": [1, 2, 3, 4, 5, 6, 7, 8, 9, 10],\n",
    "    \"gamma\": (0.5, 5),\n",
    "    \"subsample\": (0.6, 1.0),\n",
    "    \"colsample_bytree\": (0.6, 1.0),\n",
    "    \"max_depth\": [3, 4, 5],\n",
    "}\n",
    "\n",
    "xgb = XGBClassifier(\n",
    "    learning_rate=0.02,\n",
    "    n_estimators=50,\n",
    "    objective=\"binary:logistic\",\n",
    "    nthread=10,\n",
    "    tree_method=\"gpu_hist\",\n",
    "    use_label_encoder=False,\n",
    "    eval_metric=\"mlogloss\"\n",
    ")\n",
    "\n",
    "x_train_tune, x_test_tune, y_train_tune, y_test_tune = train_test_split(x_train, y_train, test_size=.2, random_state=29)"
   ]
  },
  {
   "cell_type": "code",
   "execution_count": 4,
   "id": "ca1a9a7a-aa52-4b7c-932b-c5e24935943c",
   "metadata": {
    "tags": []
   },
   "outputs": [
    {
     "data": {
      "text/html": [
       "== Status ==<br>Memory usage on this node: 52.5/754.6 GiB<br>Using FIFO scheduling algorithm.<br>Resources requested: 0/64 CPUs, 0/2 GPUs, 0.0/519.78 GiB heap, 0.0/128.52 GiB objects (0/1.0 accelerator_type:V100S)<br>Result logdir: /data/user/ladilova/fed_colearning/FederatedLearningViaCoTraining/models_covType/_Trainable_2021-05-11_22-06-44<br>Number of trials: 10/10 (10 TERMINATED)<br><br>"
      ],
      "text/plain": [
       "<IPython.core.display.HTML object>"
      ]
     },
     "metadata": {},
     "output_type": "display_data"
    },
    {
     "data": {
      "text/plain": [
       "TuneSearchCV(early_stopping=False,\n",
       "             estimator=XGBClassifier(base_score=None, booster=None,\n",
       "                                     colsample_bylevel=None,\n",
       "                                     colsample_bynode=None,\n",
       "                                     colsample_bytree=None,\n",
       "                                     eval_metric='mlogloss', gamma=None,\n",
       "                                     gpu_id=None, importance_type='gain',\n",
       "                                     interaction_constraints=None,\n",
       "                                     learning_rate=0.02, max_delta_step=None,\n",
       "                                     max_depth=None, min_child_weight=None,\n",
       "                                     missing=nan, monotone_c...\n",
       "                      <class 'ray.tune.logger.CSVLogger'>],\n",
       "             n_jobs=-1,\n",
       "             param_distributions={'colsample_bytree': (0.6, 1.0),\n",
       "                                  'gamma': (0.5, 5), 'max_depth': [3, 4, 5],\n",
       "                                  'min_child_weight': [1, 2, 3, 4, 5, 6, 7, 8,\n",
       "                                                       9, 10],\n",
       "                                  'subsample': (0.6, 1.0)},\n",
       "             return_train_score=True,\n",
       "             scoring={'score': <function _passthrough_scorer at 0x7f7c7ee9bd40>},\n",
       "             search_optimization='bayesian', sk_n_jobs=1, use_gpu=True,\n",
       "             verbose=1)"
      ]
     },
     "execution_count": 4,
     "metadata": {},
     "output_type": "execute_result"
    }
   ],
   "source": [
    "tune_search = TuneSearchCV(\n",
    "    xgb,\n",
    "    parameter_grid,\n",
    "    use_gpu=True,\n",
    "    search_optimization=\"bayesian\",\n",
    "    n_trials=10,\n",
    "    early_stopping=False,\n",
    "    max_iters=1,\n",
    "    local_dir='.',\n",
    "    return_train_score=True,\n",
    "    verbose=1\n",
    ")\n",
    "tune_search.fit(x_train_tune, y_train_tune)"
   ]
  },
  {
   "cell_type": "code",
   "execution_count": 5,
   "id": "57ff2887-3883-44d7-953b-10ad8f8406af",
   "metadata": {
    "tags": []
   },
   "outputs": [
    {
     "name": "stdout",
     "output_type": "stream",
     "text": [
      "{'min_child_weight': 5, 'gamma': 2.751023491643122, 'subsample': 0.9274103084667017, 'colsample_bytree': 0.7976354392235654, 'max_depth': 5}\n"
     ]
    }
   ],
   "source": [
    "print(tune_search.best_params_)"
   ]
  },
  {
   "cell_type": "code",
   "execution_count": 6,
   "id": "a6ba4fec-2ccf-41b9-b955-6cf6d35d0a1b",
   "metadata": {
    "tags": []
   },
   "outputs": [
    {
     "data": {
      "text/plain": [
       "0.720558882235529"
      ]
     },
     "execution_count": 6,
     "metadata": {},
     "output_type": "execute_result"
    }
   ],
   "source": [
    "# best classifier\n",
    "xgb = XGBClassifier(\n",
    "    learning_rate=0.02,\n",
    "    n_estimators=50,\n",
    "    objective=\"binary:logistic\",\n",
    "    nthread=10,\n",
    "    tree_method=\"gpu_hist\",\n",
    "    use_label_encoder=False,\n",
    "    eval_metric=\"mlogloss\",\n",
    "    **tune_search.best_params_)\n",
    "xgb.fit(x_train_tune, y_train_tune)\n",
    "xgb.score(x_test_tune, y_test_tune)"
   ]
  },
  {
   "cell_type": "markdown",
   "id": "71f1c97c-4b62-47eb-91f4-bc2c4fc2a3f8",
   "metadata": {
    "tags": []
   },
   "source": [
    "### Training local models"
   ]
  },
  {
   "cell_type": "code",
   "execution_count": 7,
   "id": "bc60f252-b8e5-4e53-b70b-225bfe70e351",
   "metadata": {
    "tags": []
   },
   "outputs": [],
   "source": [
    "def tuning(learners, local_ds, theta):\n",
    "    global_predictions = []\n",
    "    for learner in learners:\n",
    "        global_predictions.append(learner.predict(global_set_x))\n",
    "    global_predictions = np.array(global_predictions)\n",
    "    \n",
    "    certain_global_x = []\n",
    "    certain_global_predictions = []\n",
    "    correct_count = 0\n",
    "    for i in range(len(global_set_x)):\n",
    "        tmp = np.zeros(n_classes)\n",
    "        for pred in global_predictions[:, i]:\n",
    "            tmp[pred] += 1\n",
    "        if tmp.max() >= theta:\n",
    "            certain_global_x.append(global_set_x[i])\n",
    "            certain_global_predictions.append(np.argmax(tmp))\n",
    "            if np.argmax(tmp) == global_set_y[i]:\n",
    "                correct_count += 1\n",
    "    print(\"Certain predictions amount\", len(certain_global_predictions), \"with correct in them\", correct_count)\n",
    "    \n",
    "    learners = []\n",
    "    acc = 0\n",
    "    for i in range(n_learners):\n",
    "        xgb = XGBClassifier(\n",
    "            learning_rate=0.02,\n",
    "            n_estimators=50,\n",
    "            objective=\"binary:logistic\",\n",
    "            nthread=10,\n",
    "            tree_method=\"gpu_hist\",\n",
    "            use_label_encoder=False,\n",
    "            eval_metric=\"mlogloss\",\n",
    "            **tune_search.best_params_)\n",
    "        if len(certain_global_x) > 0:\n",
    "            local_X = np.vstack([local_set_x[i*local_ds:(i+1)*local_ds], certain_global_x])\n",
    "            local_Y = np.hstack([local_set_y[i*local_ds:(i+1)*local_ds], certain_global_predictions])\n",
    "        else:\n",
    "            local_X = local_set_x[i*local_ds:(i+1)*local_ds]\n",
    "            local_Y = local_set_y[i*local_ds:(i+1)*local_ds]\n",
    "        xgb.fit(local_X, local_Y)\n",
    "        acc += xgb.score(x_test, y_test)\n",
    "        learners.append(xgb)\n",
    "    #print(\"Average accuracy of local workers\", acc/n_learners)\n",
    "        \n",
    "    return learners, acc/len(learners)"
   ]
  },
  {
   "cell_type": "code",
   "execution_count": 8,
   "id": "aed1c1f1-2ee6-4dde-9cb6-bff51102a617",
   "metadata": {
    "tags": []
   },
   "outputs": [
    {
     "name": "stdout",
     "output_type": "stream",
     "text": [
      "Length of the local dataset 3518\n"
     ]
    }
   ],
   "source": [
    "n_classes = len(np.unique(y_train))\n",
    "# unlabeled examples\n",
    "m = 30000\n",
    "global_set_x = x_train[:m]\n",
    "global_set_y = y_train[:m]\n",
    "# labeled examples\n",
    "local_set_x = x_train[m:]\n",
    "local_set_y = y_train[m:]\n",
    "n = len(x_train) - m\n",
    "n_learners = 5\n",
    "theta = 5\n",
    "local_ds = n//n_learners\n",
    "print(\"Length of the local dataset\", local_ds)"
   ]
  },
  {
   "cell_type": "code",
   "execution_count": 9,
   "id": "2c5ff756-d073-46b1-9126-9d654e708809",
   "metadata": {
    "tags": []
   },
   "outputs": [
    {
     "name": "stdout",
     "output_type": "stream",
     "text": [
      "Average accuracy of local workers 0.7102445583662492\n"
     ]
    }
   ],
   "source": [
    "learners = []\n",
    "acc = 0\n",
    "for i in range(n_learners):\n",
    "    xgb = XGBClassifier(\n",
    "        learning_rate=0.02,\n",
    "        n_estimators=50,\n",
    "        objective=\"binary:logistic\",\n",
    "        nthread=10,\n",
    "        tree_method=\"gpu_hist\",\n",
    "        use_label_encoder=False,\n",
    "        eval_metric=\"mlogloss\",\n",
    "        **tune_search.best_params_)\n",
    "    local_X = local_set_x[i*local_ds:(i+1)*local_ds]\n",
    "    local_Y = local_set_y[i*local_ds:(i+1)*local_ds]\n",
    "    #print(Counter(local_Y))\n",
    "    xgb.fit(local_X, local_Y)\n",
    "    acc += xgb.score(x_test, y_test)\n",
    "    learners.append(xgb)\n",
    "print(\"Average accuracy of local workers\", acc/n_learners)"
   ]
  },
  {
   "cell_type": "code",
   "execution_count": 10,
   "id": "7adc41aa-6e73-40cd-973b-354f582f6083",
   "metadata": {
    "tags": []
   },
   "outputs": [
    {
     "name": "stdout",
     "output_type": "stream",
     "text": [
      "Certain predictions amount 21592 with correct in them 17208\n",
      "0.6912009412555677\n",
      "Certain predictions amount 28610 with correct in them 19894\n",
      "0.6836540885788722\n",
      "Certain predictions amount 29383 with correct in them 19965\n",
      "0.678275485334902\n",
      "Certain predictions amount 29576 with correct in them 19916\n",
      "0.6756534162534666\n",
      "Certain predictions amount 29606 with correct in them 19870\n",
      "0.6748466257668712\n",
      "Certain predictions amount 29629 with correct in them 19869\n",
      "0.6745440793343979\n",
      "Certain predictions amount 29607 with correct in them 19846\n",
      "0.6731994285234053\n",
      "Certain predictions amount 29654 with correct in them 19839\n",
      "0.6730649634423062\n",
      "Certain predictions amount 29652 with correct in them 19832\n",
      "0.6726951844692831\n",
      "Certain predictions amount 29639 with correct in them 19814\n",
      "0.6728464576855199\n"
     ]
    }
   ],
   "source": [
    "for i in range(10):\n",
    "    learners, acc = tuning(learners, local_ds, theta)\n",
    "    print(acc)"
   ]
  },
  {
   "cell_type": "code",
   "execution_count": 96,
   "id": "15c01d98-5b74-4582-be5c-cfeea50e629a",
   "metadata": {},
   "outputs": [
    {
     "name": "stdout",
     "output_type": "stream",
     "text": [
      "Local dataset size 150\n",
      "Local dataset size 200\n",
      "Local dataset size 250\n",
      "Local dataset size 300\n",
      "Local dataset size 400\n",
      "Local dataset size 500\n",
      "Local dataset size 600\n",
      "Local dataset size 700\n",
      "Local dataset size 800\n"
     ]
    }
   ],
   "source": [
    "local_ds_options = [150, 200, 250, 300, 400, 500, 600, 700, 800]\n",
    "theta = 11\n",
    "accuracies = []\n",
    "for local_ds in local_ds_options:\n",
    "    print(\"Local dataset size\", local_ds)\n",
    "    accuracies.append([])\n",
    "    learners = []\n",
    "    acc = 0\n",
    "    for i in range(n_learners):\n",
    "        xgb = XGBClassifier(\n",
    "            learning_rate=0.02,\n",
    "            n_estimators=50,\n",
    "            objective=\"binary:logistic\",\n",
    "            nthread=10,\n",
    "            tree_method=\"gpu_hist\",\n",
    "            use_label_encoder=False,\n",
    "            eval_metric=\"mlogloss\",\n",
    "            **tune_search.best_params_)\n",
    "        local_X = local_set_x[i*local_ds:(i+1)*local_ds]\n",
    "        local_Y = local_set_y[i*local_ds:(i+1)*local_ds]\n",
    "        xgb.fit(local_X, local_Y)\n",
    "        acc += xgb.score(x_test, y_test)\n",
    "        learners.append(xgb)\n",
    "    accuracies[-1].append(acc/len(learners))\n",
    "    for i in range(5):\n",
    "        learners, acc = tuning(learners, local_ds, theta)\n",
    "        accuracies[-1].append(acc)"
   ]
  },
  {
   "cell_type": "code",
   "execution_count": 97,
   "id": "1bf1c51f-cd7b-4ea5-b010-94d984928ee5",
   "metadata": {},
   "outputs": [
    {
     "data": {
      "image/png": "[encoded data removed]",
      "text/plain": [
       "<Figure size 432x288 with 1 Axes>"
      ]
     },
     "metadata": {
      "needs_background": "light"
     },
     "output_type": "display_data"
    }
   ],
   "source": [
    "import matplotlib.pyplot as plt\n",
    "%matplotlib inline\n",
    "\n",
    "for ind, ld in enumerate(local_ds_options):\n",
    "    accs = accuracies[ind]\n",
    "    plt.plot(range(len(accs)), accs, label=str(ld))\n",
    "plt.grid()\n",
    "plt.legend()\n",
    "plt.show()"
   ]
  },
  {
   "cell_type": "code",
   "execution_count": 98,
   "id": "80634897-b563-4eb6-82dd-cc5deb69fc92",
   "metadata": {},
   "outputs": [
    {
     "name": "stdout",
     "output_type": "stream",
     "text": [
      "Theta 8\n",
      "Theta 9\n",
      "Theta 10\n",
      "Theta 11\n",
      "Theta 12\n",
      "Theta 13\n",
      "Theta 14\n"
     ]
    }
   ],
   "source": [
    "local_ds = 300\n",
    "theta_options = [8,9,10,11,12,13,14]\n",
    "accuracies = []\n",
    "for theta in theta_options:\n",
    "    print(\"Theta\", theta)\n",
    "    accuracies.append([])\n",
    "    learners = []\n",
    "    acc = 0\n",
    "    for i in range(n_learners):\n",
    "        xgb = XGBClassifier(\n",
    "            learning_rate=0.02,\n",
    "            n_estimators=50,\n",
    "            objective=\"binary:logistic\",\n",
    "            nthread=10,\n",
    "            tree_method=\"gpu_hist\",\n",
    "            use_label_encoder=False,\n",
    "            eval_metric=\"mlogloss\",\n",
    "            **tune_search.best_params_)\n",
    "        local_X = local_set_x[i*local_ds:(i+1)*local_ds]\n",
    "        local_Y = local_set_y[i*local_ds:(i+1)*local_ds]\n",
    "        xgb.fit(local_X, local_Y)\n",
    "        acc += xgb.score(x_test, y_test)\n",
    "        learners.append(xgb)\n",
    "    accuracies[-1].append(acc/len(learners))\n",
    "    for i in range(5):\n",
    "        learners, acc = tuning(learners, local_ds, theta)\n",
    "        accuracies[-1].append(acc)"
   ]
  },
  {
   "cell_type": "code",
   "execution_count": 99,
   "id": "bc0da51a-21a2-4783-9925-38bd7c47ffe3",
   "metadata": {},
   "outputs": [
    {
     "data": {
      "image/png": "[encoded data removed]",
      "text/plain": [
       "<Figure size 432x288 with 1 Axes>"
      ]
     },
     "metadata": {
      "needs_background": "light"
     },
     "output_type": "display_data"
    }
   ],
   "source": [
    "for ind, th in enumerate(theta_options):\n",
    "    accs = accuracies[ind]\n",
    "    plt.plot(range(len(accs)), accs, label=str(th))\n",
    "plt.legend()\n",
    "plt.show()"
   ]
  },
  {
   "cell_type": "code",
   "execution_count": null,
   "id": "a27c592f-959a-4b45-8e5d-9cb9c6db5c3b",
   "metadata": {},
   "outputs": [],
   "source": []
  }
 ],
 "metadata": {
  "kernelspec": {
   "display_name": "Python 3",
   "language": "python",
   "name": "python3"
  },
  "language_info": {
   "codemirror_mode": {
    "name": "ipython",
    "version": 3
   },
   "file_extension": ".py",
   "mimetype": "text/x-python",
   "name": "python",
   "nbconvert_exporter": "python",
   "pygments_lexer": "ipython3",
   "version": "3.7.10"
  }
 },
 "nbformat": 4,
 "nbformat_minor": 5
}
