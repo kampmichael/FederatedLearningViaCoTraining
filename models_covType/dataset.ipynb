{
 "cells": [
  {
   "cell_type": "code",
   "execution_count": 19,
   "id": "06045133-8b69-4c57-80e3-477d125bd4a3",
   "metadata": {},
   "outputs": [],
   "source": [
    "from sklearn.datasets import fetch_covtype\n",
    "from collections import Counter\n",
    "from sklearn.preprocessing import MinMaxScaler, Normalizer\n",
    "from sklearn.pipeline import Pipeline, make_pipeline\n",
    "import numpy as np\n",
    "from sklearn.model_selection import train_test_split"
   ]
  },
  {
   "cell_type": "code",
   "execution_count": 24,
   "id": "1d2dac14-0293-473a-8153-7b1361cac6ce",
   "metadata": {},
   "outputs": [],
   "source": [
    "x, y = fetch_covtype(data_home='.', return_X_y=True, shuffle=True, random_state=29)"
   ]
  },
  {
   "cell_type": "code",
   "execution_count": 25,
   "id": "28e1bfcf-1c1a-43a6-beea-89f89d94bbef",
   "metadata": {},
   "outputs": [
    {
     "data": {
      "text/plain": [
       "Counter({1: 211840, 2: 283301, 7: 20510, 3: 35754, 5: 9493, 4: 2747, 6: 17367})"
      ]
     },
     "execution_count": 25,
     "metadata": {},
     "output_type": "execute_result"
    }
   ],
   "source": [
    "Counter(y)"
   ]
  },
  {
   "cell_type": "code",
   "execution_count": 36,
   "id": "fc0ca2c8-2ec5-4d05-a80a-f48ab37c9be6",
   "metadata": {},
   "outputs": [],
   "source": [
    "counters = {}\n",
    "balancedX = []\n",
    "balancedY = []\n",
    "for i in np.arange(1,8):\n",
    "    counters[i] = 0\n",
    "for ind, x_ind in enumerate(x):\n",
    "    if y[ind] == 4:\n",
    "        continue\n",
    "    if counters[y[ind]] >= 10000:\n",
    "        continue\n",
    "    else:\n",
    "        counters[y[ind]] += 1\n",
    "        balancedX.append(x_ind)\n",
    "        balancedY.append(y[ind])\n",
    "        \n",
    "balancedY_transformed = []\n",
    "for y in balancedY:\n",
    "    if y in [1,2,3]:\n",
    "        balancedY_transformed.append(y-1)\n",
    "    else:\n",
    "        balancedY_transformed.append(y-2)"
   ]
  },
  {
   "cell_type": "code",
   "execution_count": 37,
   "id": "76476ae8-f6de-4e2b-911b-5ec8e013ec71",
   "metadata": {},
   "outputs": [
    {
     "data": {
      "text/plain": [
       "Counter({0: 10000, 1: 10000, 5: 10000, 2: 10000, 3: 9493, 4: 10000})"
      ]
     },
     "execution_count": 37,
     "metadata": {},
     "output_type": "execute_result"
    }
   ],
   "source": [
    "Counter(balancedY_transformed)"
   ]
  },
  {
   "cell_type": "code",
   "execution_count": 40,
   "id": "dd1a3829-99c7-4a23-86f8-35a78b24e600",
   "metadata": {},
   "outputs": [],
   "source": [
    "x_train, x_test, y_train, y_test = train_test_split(balancedX, balancedY_transformed, test_size=.2, random_state=29)\n",
    "mm = make_pipeline(MinMaxScaler(), Normalizer())\n",
    "x_train = mm.fit_transform(x_train)\n",
    "x_test = mm.transform(x_test)"
   ]
  },
  {
   "cell_type": "code",
   "execution_count": 41,
   "id": "326e3dfb-1acb-4d50-8f81-3d2bb5c581af",
   "metadata": {},
   "outputs": [],
   "source": [
    "np.save(\"trainX_ct\", x_train)\n",
    "np.save(\"trainY_ct\", y_train)\n",
    "np.save(\"testX_ct\", x_test)\n",
    "np.save(\"testY_ct\", y_test)"
   ]
  },
  {
   "cell_type": "code",
   "execution_count": null,
   "id": "bc3d4601-d017-4160-a08a-7aec15c976d8",
   "metadata": {},
   "outputs": [],
   "source": []
  }
 ],
 "metadata": {
  "kernelspec": {
   "display_name": "Python 3",
   "language": "python",
   "name": "python3"
  },
  "language_info": {
   "codemirror_mode": {
    "name": "ipython",
    "version": 3
   },
   "file_extension": ".py",
   "mimetype": "text/x-python",
   "name": "python",
   "nbconvert_exporter": "python",
   "pygments_lexer": "ipython3",
   "version": "3.7.10"
  }
 },
 "nbformat": 4,
 "nbformat_minor": 5
}
