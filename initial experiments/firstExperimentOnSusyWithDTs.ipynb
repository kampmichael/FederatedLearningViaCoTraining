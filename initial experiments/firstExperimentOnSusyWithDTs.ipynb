{
 "cells": [
  {
   "cell_type": "code",
   "execution_count": 2,
   "metadata": {},
   "outputs": [],
   "source": [
    "import numpy as np\n",
    "import pandas as pd\n",
    "import random\n",
    "\n",
    "from sklearn.tree import DecisionTreeClassifier\n",
    "from sklearn.metrics import accuracy_score"
   ]
  },
  {
   "cell_type": "markdown",
   "metadata": {},
   "source": [
    "## Read in data"
   ]
  },
  {
   "cell_type": "code",
   "execution_count": 4,
   "metadata": {},
   "outputs": [
    {
     "data": {
      "text/html": [
       "<div>\n",
       "<style scoped>\n",
       "    .dataframe tbody tr th:only-of-type {\n",
       "        vertical-align: middle;\n",
       "    }\n",
       "\n",
       "    .dataframe tbody tr th {\n",
       "        vertical-align: top;\n",
       "    }\n",
       "\n",
       "    .dataframe thead th {\n",
       "        text-align: right;\n",
       "    }\n",
       "</style>\n",
       "<table border=\"1\" class=\"dataframe\">\n",
       "  <thead>\n",
       "    <tr style=\"text-align: right;\">\n",
       "      <th></th>\n",
       "      <th>0</th>\n",
       "      <th>1</th>\n",
       "      <th>2</th>\n",
       "      <th>3</th>\n",
       "      <th>4</th>\n",
       "      <th>5</th>\n",
       "      <th>6</th>\n",
       "      <th>7</th>\n",
       "      <th>8</th>\n",
       "      <th>9</th>\n",
       "      <th>10</th>\n",
       "      <th>11</th>\n",
       "      <th>12</th>\n",
       "      <th>13</th>\n",
       "      <th>14</th>\n",
       "      <th>15</th>\n",
       "      <th>16</th>\n",
       "      <th>17</th>\n",
       "      <th>18</th>\n",
       "    </tr>\n",
       "  </thead>\n",
       "  <tbody>\n",
       "    <tr>\n",
       "      <th>0</th>\n",
       "      <td>1.0</td>\n",
       "      <td>0.971370</td>\n",
       "      <td>0.063970</td>\n",
       "      <td>-1.223079</td>\n",
       "      <td>-0.754071</td>\n",
       "      <td>-0.337943</td>\n",
       "      <td>1.669839</td>\n",
       "      <td>2.835978</td>\n",
       "      <td>-1.217158</td>\n",
       "      <td>-1.110447</td>\n",
       "      <td>3.769216</td>\n",
       "      <td>0.072541</td>\n",
       "      <td>-0.739418</td>\n",
       "      <td>-1.100135</td>\n",
       "      <td>-1.164297</td>\n",
       "      <td>-0.888814</td>\n",
       "      <td>-1.274252</td>\n",
       "      <td>0.739308</td>\n",
       "      <td>0.775052</td>\n",
       "    </tr>\n",
       "    <tr>\n",
       "      <th>1</th>\n",
       "      <td>1.0</td>\n",
       "      <td>-0.808163</td>\n",
       "      <td>-0.133904</td>\n",
       "      <td>-0.708738</td>\n",
       "      <td>-0.837198</td>\n",
       "      <td>-1.609266</td>\n",
       "      <td>-0.767390</td>\n",
       "      <td>0.251972</td>\n",
       "      <td>0.503158</td>\n",
       "      <td>0.932196</td>\n",
       "      <td>-0.430650</td>\n",
       "      <td>-0.753885</td>\n",
       "      <td>-0.100052</td>\n",
       "      <td>1.248020</td>\n",
       "      <td>1.191606</td>\n",
       "      <td>-0.638962</td>\n",
       "      <td>0.901269</td>\n",
       "      <td>0.311788</td>\n",
       "      <td>-0.223392</td>\n",
       "    </tr>\n",
       "    <tr>\n",
       "      <th>2</th>\n",
       "      <td>1.0</td>\n",
       "      <td>-0.900671</td>\n",
       "      <td>-0.973143</td>\n",
       "      <td>0.692047</td>\n",
       "      <td>-0.841417</td>\n",
       "      <td>0.889265</td>\n",
       "      <td>-0.676206</td>\n",
       "      <td>1.183526</td>\n",
       "      <td>1.530473</td>\n",
       "      <td>2.297123</td>\n",
       "      <td>-1.003637</td>\n",
       "      <td>-0.685342</td>\n",
       "      <td>0.026117</td>\n",
       "      <td>1.236725</td>\n",
       "      <td>0.641831</td>\n",
       "      <td>-0.384872</td>\n",
       "      <td>1.146696</td>\n",
       "      <td>1.129964</td>\n",
       "      <td>-0.681261</td>\n",
       "    </tr>\n",
       "    <tr>\n",
       "      <th>3</th>\n",
       "      <td>1.0</td>\n",
       "      <td>0.450551</td>\n",
       "      <td>-0.687974</td>\n",
       "      <td>-0.675082</td>\n",
       "      <td>0.901611</td>\n",
       "      <td>-0.691327</td>\n",
       "      <td>0.621912</td>\n",
       "      <td>0.100342</td>\n",
       "      <td>-0.381147</td>\n",
       "      <td>-0.463096</td>\n",
       "      <td>1.363355</td>\n",
       "      <td>0.284546</td>\n",
       "      <td>-0.054335</td>\n",
       "      <td>-0.576317</td>\n",
       "      <td>-1.164297</td>\n",
       "      <td>0.133791</td>\n",
       "      <td>-1.533846</td>\n",
       "      <td>0.356272</td>\n",
       "      <td>-0.660245</td>\n",
       "    </tr>\n",
       "    <tr>\n",
       "      <th>4</th>\n",
       "      <td>-1.0</td>\n",
       "      <td>-0.791347</td>\n",
       "      <td>1.095944</td>\n",
       "      <td>1.509983</td>\n",
       "      <td>-0.378555</td>\n",
       "      <td>0.637195</td>\n",
       "      <td>-0.740988</td>\n",
       "      <td>-0.776014</td>\n",
       "      <td>1.318837</td>\n",
       "      <td>-0.934584</td>\n",
       "      <td>0.359417</td>\n",
       "      <td>-0.812766</td>\n",
       "      <td>-0.999443</td>\n",
       "      <td>-0.520532</td>\n",
       "      <td>-0.810791</td>\n",
       "      <td>-0.868423</td>\n",
       "      <td>-1.049513</td>\n",
       "      <td>-0.610517</td>\n",
       "      <td>-0.197329</td>\n",
       "    </tr>\n",
       "  </tbody>\n",
       "</table>\n",
       "</div>"
      ],
      "text/plain": [
       "    0         1         2         3         4         5         6         7   \\\n",
       "0  1.0  0.971370  0.063970 -1.223079 -0.754071 -0.337943  1.669839  2.835978   \n",
       "1  1.0 -0.808163 -0.133904 -0.708738 -0.837198 -1.609266 -0.767390  0.251972   \n",
       "2  1.0 -0.900671 -0.973143  0.692047 -0.841417  0.889265 -0.676206  1.183526   \n",
       "3  1.0  0.450551 -0.687974 -0.675082  0.901611 -0.691327  0.621912  0.100342   \n",
       "4 -1.0 -0.791347  1.095944  1.509983 -0.378555  0.637195 -0.740988 -0.776014   \n",
       "\n",
       "         8         9         10        11        12        13        14  \\\n",
       "0 -1.217158 -1.110447  3.769216  0.072541 -0.739418 -1.100135 -1.164297   \n",
       "1  0.503158  0.932196 -0.430650 -0.753885 -0.100052  1.248020  1.191606   \n",
       "2  1.530473  2.297123 -1.003637 -0.685342  0.026117  1.236725  0.641831   \n",
       "3 -0.381147 -0.463096  1.363355  0.284546 -0.054335 -0.576317 -1.164297   \n",
       "4  1.318837 -0.934584  0.359417 -0.812766 -0.999443 -0.520532 -0.810791   \n",
       "\n",
       "         15        16        17        18  \n",
       "0 -0.888814 -1.274252  0.739308  0.775052  \n",
       "1 -0.638962  0.901269  0.311788 -0.223392  \n",
       "2 -0.384872  1.146696  1.129964 -0.681261  \n",
       "3  0.133791 -1.533846  0.356272 -0.660245  \n",
       "4 -0.868423 -1.049513 -0.610517 -0.197329  "
      ]
     },
     "execution_count": 4,
     "metadata": {},
     "output_type": "execute_result"
    }
   ],
   "source": [
    "susyDataset = \"path/to/SUSYnormalized.csv\"\n",
    "df=pd.read_csv(susyDataset, sep=',',header=None)\n",
    "df.head()"
   ]
  },
  {
   "cell_type": "code",
   "execution_count": 82,
   "metadata": {},
   "outputs": [
    {
     "name": "stdout",
     "output_type": "stream",
     "text": [
      "(3698112, 18) (3698112,)\n",
      "(500, 18) (500,) (10000, 18) (10000,) (10000, 18) (10000,) (1000, 18) (1000,)\n"
     ]
    }
   ],
   "source": [
    "Y = df.iloc[:,0].to_numpy()\n",
    "X = df.iloc[:,1:].to_numpy()\n",
    "print(X.shape, Y.shape)\n",
    "\n",
    "paramFrac = 0.2\n",
    "trainFrac = 0.4\n",
    "testfrac = 0.2\n",
    "globalfrac = 0.4\n",
    "\n",
    "n = 5000\n",
    "nTrain = 500#int(n*trainFrac)\n",
    "nTest = 10000#int(n*testfrac)\n",
    "nGlobal = 10000#int(n*globalfrac)\n",
    "nParam = 1000#int(n*paramFrac)\n",
    "\n",
    "Xglobal = X[nTrain + nTest:nTrain + nTest + nGlobal]\n",
    "Yglobal = Y[nTrain + nTest:nTrain + nTest + nGlobal]\n",
    "Xtest = X[nTrain:nTrain + nTest]\n",
    "Ytest = Y[nTrain:nTrain + nTest]\n",
    "Xparam = X[nTrain + nTest + nGlobal:nTrain + nTest + nGlobal + nParam]\n",
    "Yparam = Y[nTrain + nTest + nGlobal:nTrain + nTest + nGlobal + nParam]\n",
    "X = X[:nTrain]\n",
    "Y = Y[:nTrain]\n",
    "\n",
    "print(X.shape, Y.shape, Xglobal.shape, Yglobal.shape, Xtest.shape, Ytest.shape, Xparam.shape, Yparam.shape)"
   ]
  },
  {
   "cell_type": "markdown",
   "metadata": {},
   "source": [
    "## Separate data into local datasets\n",
    "\n",
    "Training data is separated by drawing half of each local dataset uniform at random and half of the dataset based on the value of one selected feature.\n",
    "\n",
    "For the selected feature col (I have chosen feature 0 rather randomly, here), its values are binned by frequency (each bin contains an equal amount of data points) and each bin is appended to one local dataset. Thus, half of each local dataset is uniform, the other half has one particular feature value in a fixed range that is different from all other local datasets. Thus, there is some mild form on non-iid-ness in the distribution of X."
   ]
  },
  {
   "cell_type": "code",
   "execution_count": 83,
   "metadata": {},
   "outputs": [],
   "source": [
    "def equalFrequencyIntervals(vals, bins):\n",
    "    n = len(vals)\n",
    "    intervals = np.interp(np.linspace(0, n, bins + 1), np.arange(n), np.sort(vals))\n",
    "    intervals[-1] += 0.00001 #this should solve rounding errors\n",
    "    return intervals\n",
    "\n",
    "def getLearner(i, intervals, X, col):\n",
    "    for j in range(len(intervals)):\n",
    "        if X[i,col] < intervals[j]:\n",
    "            return j - 1\n",
    "    print(X[i,col], intervals)\n",
    "\n",
    "def distributeDataset(X, Y, col, num_learners, frac_colBin = 0.5):\n",
    "    n = Y.shape[0]\n",
    "    n_colBin = int(n*frac_colBin)\n",
    "    \n",
    "    \n",
    "    indices = list(range(n))\n",
    "    random.shuffle(indices)\n",
    "    \n",
    "    indColBin    = indices[:n_colBin]\n",
    "    indNonColBin = indices[n_colBin:]\n",
    "    \n",
    "    Xs = np.array_split(X[indNonColBin,:], num_learners)    \n",
    "    Ys = np.array_split(Y[indNonColBin], num_learners)    \n",
    "    \n",
    "    \n",
    "    vals = X[indColBin,col]\n",
    "    intervals = equalFrequencyIntervals(vals, num_learners)\n",
    "    \n",
    "    Idxs = [[] for _ in range(num_learners)]\n",
    "    count = 0\n",
    "    for i in indColBin:\n",
    "        l = getLearner(i, intervals, X, col)\n",
    "        Idxs[l].append(i)\n",
    "        count += 1\n",
    "        \n",
    "        \n",
    "    for l in range(num_learners):\n",
    "        Xcolbin = X[Idxs[l],:]\n",
    "        Ycolbin = Y[Idxs[l]]\n",
    "        Xs[l] = np.vstack([Xs[l],Xcolbin])\n",
    "        Ys[l] = np.hstack([Ys[l],Ycolbin])\n",
    "    return Xs, Ys \n",
    "    \n",
    "    \n",
    "    "
   ]
  },
  {
   "cell_type": "code",
   "execution_count": 84,
   "metadata": {
    "scrolled": true
   },
   "outputs": [
    {
     "name": "stdout",
     "output_type": "stream",
     "text": [
      "(100, 18) (100,)\n",
      "(100, 18) (100,)\n",
      "(100, 18) (100,)\n",
      "(100, 18) (100,)\n",
      "(100, 18) (100,)\n"
     ]
    }
   ],
   "source": [
    "num_learners = 5\n",
    "col          = 0\n",
    "\n",
    "Xs, Ys = distributeDataset(X,Y, col, num_learners)\n",
    "for l in range(num_learners):\n",
    "    print(Xs[l].shape, Ys[l].shape)"
   ]
  },
  {
   "cell_type": "markdown",
   "metadata": {},
   "source": [
    "## Let's train some local models on parts of the local data\n",
    "\n",
    "And let's use only decision trees for now...\n"
   ]
  },
  {
   "cell_type": "markdown",
   "metadata": {},
   "source": [
    "### First, a parameter evaluation for the decision trees\n",
    "\n",
    "That's a standard parameter evaluation on a small, independent dataset with a reasonable range of parameters for decision trees.\n"
   ]
  },
  {
   "cell_type": "code",
   "execution_count": 85,
   "metadata": {},
   "outputs": [
    {
     "name": "stdout",
     "output_type": "stream",
     "text": [
      "{'criterion': 'entropy', 'max_depth': 4, 'min_samples_leaf': 31, 'min_samples_split': 2}\n"
     ]
    }
   ],
   "source": [
    "from sklearn.model_selection import GridSearchCV\n",
    "\n",
    "parameters = {'max_depth':list(range(1,10)), 'min_samples_split':list(range(2,50, 4)), 'min_samples_leaf' : list(range(1,50, 5)), 'criterion' : ['gini', 'entropy']}\n",
    "\n",
    "dt = DecisionTreeClassifier()\n",
    "\n",
    "clf = GridSearchCV(dt, parameters)\n",
    "clf.fit(Xparam, Yparam)\n",
    "\n",
    "optParams = clf.best_params_\n",
    "print(optParams)"
   ]
  },
  {
   "cell_type": "markdown",
   "metadata": {},
   "source": [
    "### Now the \"distributed\" training"
   ]
  },
  {
   "cell_type": "code",
   "execution_count": 86,
   "metadata": {},
   "outputs": [],
   "source": [
    "examplesPerLearner = 599999\n",
    "max_depth = 5\n",
    "results = {}\n",
    "\n",
    "learners = []\n",
    "for l in range(num_learners):\n",
    "    Xl = Xs[l][:examplesPerLearner]\n",
    "    Yl = Ys[l][:examplesPerLearner]\n",
    "    clf = DecisionTreeClassifier(**optParams)\n",
    "    clf.fit(Xl, Yl)\n",
    "    learners.append(clf)\n",
    "    \n",
    "    ytrainpred = clf.predict(Xl)\n",
    "    ypred = clf.predict(Xtest)\n",
    "    \n",
    "    trainACC = accuracy_score(Yl, ytrainpred)\n",
    "    testACC = accuracy_score(Ytest, ypred)\n",
    "    \n",
    "    results[l] = {'train' : trainACC, 'test' : testACC}\n",
    "    "
   ]
  },
  {
   "cell_type": "code",
   "execution_count": 87,
   "metadata": {},
   "outputs": [
    {
     "name": "stdout",
     "output_type": "stream",
     "text": [
      "{0: {'train': 0.79, 'test': 0.6949}, 1: {'train': 0.83, 'test': 0.7114}, 2: {'train': 0.72, 'test': 0.7266}, 3: {'train': 0.73, 'test': 0.6325}, 4: {'train': 0.72, 'test': 0.7241}}\n"
     ]
    }
   ],
   "source": [
    "print(results)"
   ]
  },
  {
   "cell_type": "markdown",
   "metadata": {},
   "source": [
    "## Now we will have them make predictions on the global data\n",
    "\n",
    "The global dataset is assumed to be unlabelled and the predictions of the local models are used to generate labels.\n",
    "\n",
    "The labels are generated by taking the majority vote of local models as the actual label. To make those more certain, only those data points are added to the \"confident global dataset\", for which 4 of 5 local models agree (This is controlled by the parameter theta below)."
   ]
  },
  {
   "cell_type": "code",
   "execution_count": 88,
   "metadata": {},
   "outputs": [
    {
     "name": "stdout",
     "output_type": "stream",
     "text": [
      "(2662,) (2662, 18) (2662,) (10000, 18)\n"
     ]
    }
   ],
   "source": [
    "theta = 0.0\n",
    "thetaPos = num_learners * (1-theta) \n",
    "thetaNeg = num_learners * theta\n",
    "\n",
    "globalPreds = []\n",
    "for l in range(num_learners):\n",
    "    Ypred_global = learners[l].predict(Xglobal)\n",
    "    globalPreds.append(Ypred_global)\n",
    "globalPreds = np.sum(np.array(globalPreds), axis=0) #take the sum to get an estimate of the consensus (if sum = 5, all learners say it's 1, if sum = 0 all say it's 0)\n",
    "\n",
    "#we now want to remove those data points from the global set for which the local models are not agreeing very much\n",
    "confidentGlobalPreds = []\n",
    "confidentIdxs = []\n",
    "for i in range(globalPreds.shape[0]):\n",
    "    pred = globalPreds[i]\n",
    "    if pred >= thetaPos:\n",
    "        confidentGlobalPreds.append(1.0)\n",
    "        confidentIdxs.append(i)\n",
    "    elif pred >= thetaPos:\n",
    "        confidentGlobalPreds.append(0.0)\n",
    "        confidentIdxs.append(i)\n",
    "confidentGlobalPreds = np.array(confidentGlobalPreds)\n",
    "        \n",
    "Xconfglobal = Xglobal[confidentIdxs,:]\n",
    "Yconfglobal = Yglobal[confidentIdxs]\n",
    "print(confidentGlobalPreds.shape, Xconfglobal.shape, Yconfglobal.shape, Xglobal.shape )        "
   ]
  },
  {
   "cell_type": "markdown",
   "metadata": {},
   "source": [
    "## Retrain local models by adding the confident global predictions (not the original labels, though)"
   ]
  },
  {
   "cell_type": "code",
   "execution_count": 89,
   "metadata": {},
   "outputs": [],
   "source": [
    "learnersGlobal = []\n",
    "for l in range(num_learners):\n",
    "    Xl = np.vstack([Xs[l][:examplesPerLearner], Xconfglobal])\n",
    "    Yl = np.hstack([Ys[l][:examplesPerLearner], confidentGlobalPreds])\n",
    "    clf = DecisionTreeClassifier(**optParams)\n",
    "    clf.fit(Xl, Yl)\n",
    "    learnersGlobal.append(clf)\n",
    "    \n",
    "    ytrainpred = clf.predict(Xl)\n",
    "    ypred = clf.predict(Xtest)\n",
    "    \n",
    "    trainACC = accuracy_score(Yl, ytrainpred)\n",
    "    testACC = accuracy_score(Ytest, ypred)\n",
    "    \n",
    "    results[l].update({'train_wGlobal' : trainACC, 'test_wGlobal' : testACC})"
   ]
  },
  {
   "cell_type": "code",
   "execution_count": 90,
   "metadata": {},
   "outputs": [
    {
     "name": "stdout",
     "output_type": "stream",
     "text": [
      "{0: {'train': 0.79, 'test': 0.6949, 'train_wGlobal': 0.9920347574221579, 'test_wGlobal': 0.7241}, 1: {'train': 0.83, 'test': 0.7114, 'train_wGlobal': 0.9913106444605359, 'test_wGlobal': 0.7244}, 2: {'train': 0.72, 'test': 0.7266, 'train_wGlobal': 0.9887762490948588, 'test_wGlobal': 0.7244}, 3: {'train': 0.73, 'test': 0.6325, 'train_wGlobal': 0.9902244750181028, 'test_wGlobal': 0.6325}, 4: {'train': 0.72, 'test': 0.7241, 'train_wGlobal': 0.9898624185372918, 'test_wGlobal': 0.7245}}\n"
     ]
    }
   ],
   "source": [
    "print(results)"
   ]
  },
  {
   "cell_type": "markdown",
   "metadata": {},
   "source": [
    "## Visualize the results"
   ]
  },
  {
   "cell_type": "code",
   "execution_count": 91,
   "metadata": {},
   "outputs": [],
   "source": [
    "import matplotlib.pyplot as plt"
   ]
  },
  {
   "cell_type": "code",
   "execution_count": 92,
   "metadata": {},
   "outputs": [
    {
     "name": "stdout",
     "output_type": "stream",
     "text": [
      "0.6979 0.70598\n"
     ]
    },
    {
     "name": "stderr",
     "output_type": "stream",
     "text": [
      "C:\\Python36\\lib\\site-packages\\ipykernel_launcher.py:23: UserWarning: FixedFormatter should only be used together with FixedLocator\n"
     ]
    },
    {
     "data": {
      "image/png": "[encoded data removed]",
      "text/plain": [
       "<Figure size 432x288 with 1 Axes>"
      ]
     },
     "metadata": {
      "needs_background": "light"
     },
     "output_type": "display_data"
    }
   ],
   "source": [
    "test = [results[l]['test'] for l in results]\n",
    "testGlobal = [results[l]['test_wGlobal'] for l in results]\n",
    "\n",
    "testAvg = np.average(np.array(test))\n",
    "testGlobalAvg = np.average(np.array(testGlobal))\n",
    "\n",
    "print(testAvg, testGlobalAvg)\n",
    "\n",
    "x = np.arange(num_learners)\n",
    "\n",
    "fig, ax = plt.subplots()\n",
    "width = 0.4\n",
    "\n",
    "rects1 = ax.bar(x - width/2, test, width, label='test ACC (avg = '+str(round(testAvg,2))+')')\n",
    "rects2 = ax.bar(x + width/2, testGlobal, width, label='test ACC trained with global data (avg = '+str(round(testGlobalAvg,2))+')')\n",
    "\n",
    "#ax.hlines(testAvg, 0  - width, num_learners - width, label = 'average test ACC', colors='b', zorder=10)\n",
    "#ax.hlines(testGlobalAvg, 0  - width, num_learners - width, label = 'average test ACC with global', colors='r', zorder=12)\n",
    "\n",
    "ax.set_ylabel('accuracy')\n",
    "ax.set_xlabel('learner/client')\n",
    "ax.set_title('Accuracy of Local Training with and without Global Data')\n",
    "ax.set_xticklabels(list(range(num_learners+1)))\n",
    "ax.set_ylim((0,1))\n",
    "ax.legend()\n",
    "\n",
    "fig.tight_layout()\n",
    "plt.savefig('testAcc.png')\n",
    "plt.show()"
   ]
  },
  {
   "cell_type": "code",
   "execution_count": null,
   "metadata": {},
   "outputs": [],
   "source": []
  },
  {
   "cell_type": "code",
   "execution_count": null,
   "metadata": {},
   "outputs": [],
   "source": []
  }
 ],
 "metadata": {
  "kernelspec": {
   "display_name": "Python 3",
   "language": "python",
   "name": "python3"
  },
  "language_info": {
   "codemirror_mode": {
    "name": "ipython",
    "version": 3
   },
   "file_extension": ".py",
   "mimetype": "text/x-python",
   "name": "python",
   "nbconvert_exporter": "python",
   "pygments_lexer": "ipython3",
   "version": "3.6.3"
  }
 },
 "nbformat": 4,
 "nbformat_minor": 4
}
