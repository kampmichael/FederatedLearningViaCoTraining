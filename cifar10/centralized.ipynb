{
 "cells": [
  {
   "cell_type": "code",
   "execution_count": 1,
   "id": "4379bf11-60fe-47b5-81be-272dab317d82",
   "metadata": {},
   "outputs": [],
   "source": [
    "from resnet import ResNet18\n",
    "import torch\n",
    "import torch.nn as nn\n",
    "import torch.optim as optim\n",
    "import torch.nn.functional as F\n",
    "import torch.backends.cudnn as cudnn\n",
    "\n",
    "import torchvision\n",
    "import torchvision.transforms as transforms\n",
    "\n",
    "import os\n",
    "import numpy as np\n",
    "import pickle"
   ]
  },
  {
   "cell_type": "code",
   "execution_count": 2,
   "id": "03b66d36-a126-4a04-aef9-78c7fbaabf38",
   "metadata": {},
   "outputs": [],
   "source": [
    "savedir = \"./saved_models/run6\""
   ]
  },
  {
   "cell_type": "code",
   "execution_count": 3,
   "id": "b64e5cf5-9c7c-46d7-804e-f960d8e3889a",
   "metadata": {},
   "outputs": [],
   "source": [
    "device = 'cuda' if torch.cuda.is_available() else 'cpu'"
   ]
  },
  {
   "cell_type": "code",
   "execution_count": 4,
   "id": "7ab9f0bb-d625-4ca4-bc0b-119d2358de52",
   "metadata": {},
   "outputs": [],
   "source": [
    "def train(net, trainloader, optimizer, epoch):\n",
    "    net.train()\n",
    "    train_loss = 0\n",
    "    for batch_idx, (inputs, targets) in enumerate(trainloader):\n",
    "        inputs, targets = inputs.to(device), targets.to(device)\n",
    "        optimizer.zero_grad()\n",
    "        outputs = net(inputs)\n",
    "        loss = criterion(outputs, targets)\n",
    "        loss.backward()\n",
    "        optimizer.step()\n",
    "        train_loss += loss.item()\n",
    "\n",
    "    if epoch%10==0:\n",
    "        print('Epoch%d, Loss: %.3f' % (epoch, train_loss/(batch_idx+1)))"
   ]
  },
  {
   "cell_type": "code",
   "execution_count": 5,
   "id": "d9213816-b3cb-4a27-a235-2d33239dd619",
   "metadata": {},
   "outputs": [
    {
     "name": "stdout",
     "output_type": "stream",
     "text": [
      "Files already downloaded and verified\n"
     ]
    }
   ],
   "source": [
    "transform_test = transforms.Compose([\n",
    "    transforms.ToTensor(),\n",
    "    transforms.Normalize((0.4914, 0.4822, 0.4465), (0.2023, 0.1994, 0.2010)),\n",
    "])\n",
    "\n",
    "testset = torchvision.datasets.CIFAR10(\n",
    "    root='./data', train=False, download=True, transform=transform_test)\n",
    "testloader = torch.utils.data.DataLoader(\n",
    "    testset, batch_size=100, shuffle=False, num_workers=2)"
   ]
  },
  {
   "cell_type": "code",
   "execution_count": 6,
   "id": "1b52d99f-23fe-45cd-baee-45dce668ed1c",
   "metadata": {},
   "outputs": [],
   "source": [
    "def test(net):\n",
    "    net.eval()\n",
    "    test_loss = 0\n",
    "    correct = 0\n",
    "    total = 0\n",
    "    with torch.no_grad():\n",
    "        for batch_idx, (inputs, targets) in enumerate(testloader):\n",
    "            inputs, targets = inputs.to(device), targets.to(device)\n",
    "            outputs = net(inputs)\n",
    "            loss = criterion(outputs, targets)\n",
    "\n",
    "            test_loss += loss.item()\n",
    "            _, predicted = outputs.max(1)\n",
    "            total += targets.size(0)\n",
    "            correct += predicted.eq(targets).sum().item()\n",
    "\n",
    "        print('Loss: %.3f | Acc: %.3f%% (%d/%d)' % (test_loss/(batch_idx+1), 100.*correct/total, correct, total))\n",
    "    return 1.0*correct/total"
   ]
  },
  {
   "cell_type": "code",
   "execution_count": 7,
   "id": "e1acda95-9872-42ab-8c9c-1727a6b4397a",
   "metadata": {},
   "outputs": [],
   "source": [
    "def train_learner(dataset, epochs, net=None):\n",
    "    if net is None:\n",
    "        net = ResNet18()\n",
    "        net = net.to(device)\n",
    "    optimizer = optim.SGD(net.parameters(), lr=0.005, momentum=0.9)\n",
    "    trainloader = torch.utils.data.DataLoader(dataset, batch_size=64, shuffle=True, num_workers=2)\n",
    "    for epoch in range(epochs):\n",
    "        train(net, trainloader, optimizer, epoch)\n",
    "    return net"
   ]
  },
  {
   "cell_type": "code",
   "execution_count": 8,
   "id": "0f07f462-2daf-4a9f-900b-a0be2ae0d0ff",
   "metadata": {},
   "outputs": [],
   "source": [
    "local_trainset = pickle.load(open(os.path.join(savedir, \"local_trainset\"), \"rb\"))"
   ]
  },
  {
   "cell_type": "code",
   "execution_count": 9,
   "id": "18c76d2c-e46b-4cf5-8986-ebddcd6d3fc7",
   "metadata": {},
   "outputs": [
    {
     "name": "stdout",
     "output_type": "stream",
     "text": [
      "Epoch0, Loss: 1.836\n",
      "Epoch10, Loss: 0.646\n",
      "Epoch20, Loss: 0.350\n",
      "Epoch30, Loss: 0.214\n",
      "Epoch40, Loss: 0.141\n",
      "Epoch50, Loss: 0.071\n",
      "Epoch60, Loss: 0.041\n",
      "Epoch70, Loss: 0.038\n",
      "Epoch80, Loss: 0.020\n",
      "Epoch90, Loss: 0.021\n",
      "Epoch100, Loss: 0.026\n",
      "Epoch110, Loss: 0.016\n",
      "Epoch120, Loss: 0.006\n",
      "Epoch130, Loss: 0.007\n",
      "Epoch140, Loss: 0.002\n",
      "Epoch150, Loss: 0.007\n",
      "Epoch160, Loss: 0.003\n",
      "Epoch170, Loss: 0.016\n",
      "Epoch180, Loss: 0.010\n",
      "Epoch190, Loss: 0.006\n"
     ]
    }
   ],
   "source": [
    "criterion = nn.CrossEntropyLoss()\n",
    "net = train_learner(local_trainset, epochs=200)"
   ]
  },
  {
   "cell_type": "code",
   "execution_count": 10,
   "id": "ea74da26-2e49-463b-8065-98d66fb7518b",
   "metadata": {},
   "outputs": [
    {
     "name": "stdout",
     "output_type": "stream",
     "text": [
      "Loss: 1.076 | Acc: 84.230% (8423/10000)\n"
     ]
    },
    {
     "data": {
      "text/plain": [
       "0.8423"
      ]
     },
     "execution_count": 10,
     "metadata": {},
     "output_type": "execute_result"
    }
   ],
   "source": [
    "test(net)"
   ]
  },
  {
   "cell_type": "code",
   "execution_count": 11,
   "id": "a11fb85e-85c7-4f2a-83b9-40217c9003c1",
   "metadata": {},
   "outputs": [],
   "source": [
    "torch.save(net, os.path.join(savedir, \"localdata_centralized\"))"
   ]
  },
  {
   "cell_type": "code",
   "execution_count": null,
   "id": "8d523350-664a-47ac-88a4-d9832d7dde9d",
   "metadata": {},
   "outputs": [],
   "source": []
  }
 ],
 "metadata": {
  "kernelspec": {
   "display_name": "Python 3",
   "language": "python",
   "name": "python3"
  },
  "language_info": {
   "codemirror_mode": {
    "name": "ipython",
    "version": 3
   },
   "file_extension": ".py",
   "mimetype": "text/x-python",
   "name": "python",
   "nbconvert_exporter": "python",
   "pygments_lexer": "ipython3",
   "version": "3.7.10"
  }
 },
 "nbformat": 4,
 "nbformat_minor": 5
}
